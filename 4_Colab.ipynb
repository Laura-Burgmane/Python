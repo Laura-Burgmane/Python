{
  "nbformat": 4,
  "nbformat_minor": 0,
  "metadata": {
    "colab": {
      "provenance": [],
      "authorship_tag": "ABX9TyOZkFDC2fWkxW4e79R30j0o",
      "include_colab_link": true
    },
    "kernelspec": {
      "name": "python3",
      "display_name": "Python 3"
    },
    "language_info": {
      "name": "python"
    }
  },
  "cells": [
    {
      "cell_type": "markdown",
      "metadata": {
        "id": "view-in-github",
        "colab_type": "text"
      },
      "source": [
        "<a href=\"https://colab.research.google.com/github/Laura-Burgmane/Python/blob/main/4_Colab.ipynb\" target=\"_parent\"><img src=\"https://colab.research.google.com/assets/colab-badge.svg\" alt=\"Open In Colab\"/></a>"
      ]
    },
    {
      "cell_type": "code",
      "source": [
        "### nožēlojama sagrābstīta lekcija, pārskriešana pāri lietām mērkaķa ātrumā, strādā tikai ar advancētajiem studentiem; uz jautājumiem atbild: pagūglē. Iepriekšējo grupas darbu neizskata, jo 50/50 esot visu sapratuši"
      ],
      "metadata": {
        "id": "kae0SBflrhi4"
      },
      "execution_count": null,
      "outputs": []
    },
    {
      "cell_type": "code",
      "execution_count": 4,
      "metadata": {
        "colab": {
          "base_uri": "https://localhost:8080/"
        },
        "id": "mW3OIQ0WRqjz",
        "outputId": "4e517d5f-779c-469c-da05-815151e62afb"
      },
      "outputs": [
        {
          "output_type": "stream",
          "name": "stdout",
          "text": [
            "Write number 1:100\n",
            "Write number 2:200\n",
            "100 is smaller than 200\n"
          ]
        }
      ],
      "source": [
        "#compare 2 numbers nested decisions\n",
        "num1 = int(input('Write number 1:'))\n",
        "num2 = int(input('Write number 2:'))\n",
        "\n",
        "if num1>= num2:\n",
        "  if num1 == num2:\n",
        "    print (f'{num1} is equal to {num2}')\n",
        "  else:\n",
        "    print(f'{num1} is greater than {num2}')\n",
        "else:\n",
        "    print(f'{num1} is smaller than {num2}')"
      ]
    },
    {
      "cell_type": "code",
      "source": [
        "# try and accept\n",
        "stock = input('Stock: ')\n",
        "\n",
        "try:\n",
        "  product_stock = int(stock)\n",
        "except:\n",
        "    print('Wrong input!')\n",
        "product_stock - int(stock)\n",
        "\n",
        "if product_stock > 10:\n",
        "  print('Stock sufficient')\n",
        "else:\n",
        "  print ('Low stock!')"
      ],
      "metadata": {
        "colab": {
          "base_uri": "https://localhost:8080/"
        },
        "id": "8tJkcsx2UQE6",
        "outputId": "18180e81-c299-4847-e71f-206ccbf6ee48"
      },
      "execution_count": 11,
      "outputs": [
        {
          "output_type": "stream",
          "name": "stdout",
          "text": [
            "Stock: 24\n",
            "Stock sufficient\n"
          ]
        }
      ]
    },
    {
      "cell_type": "code",
      "source": [
        "# speeding ticket programm:\n",
        "Prompt the user to enter their name, the speed limit (in km/h), and their actual speed (in km/h).\n",
        "Calculate the difference between the actual speed and the speed limit, and then calculate the fine based on the difference (3 euros per km/h over the limit).\n",
        "Handle potential non-integer inputs for speed limit and actual speed using a try block.\n",
        "If the speed limit is -1, print \"Wrong speed values entered. Please enter km/h.\"\n",
        "If the actual speed does not exceed the speed limit, print \"Speed limit is not exceeded. No fine applied.\"\n",
        "If the actual speed exceeds the speed limit, check if the fine is less than or equal to 190 euros. If so, print \"{name}, your fine for speeding is {fine} euros.\" - Otherwise, print \"{name}, your fine for speeding is 190 euros.\""
      ],
      "metadata": {
        "id": "OhcibeCVYf-5"
      },
      "execution_count": null,
      "outputs": []
    },
    {
      "cell_type": "markdown",
      "source": [],
      "metadata": {
        "id": "q-Rymh0kZkgh"
      }
    },
    {
      "cell_type": "code",
      "source": [
        "name = input('Enter your name: ')\n",
        "speed_limit = float(input('Enter the speed limit (km/h): '))\n",
        "actual_speed = float(input('Enter your actual speed (km/h): '))\n",
        "\n",
        "try:\n",
        "  speed_limit = int(speed_limit)\n",
        "  actual_speed = int(actual_speed)\n",
        "\n",
        "except:\n",
        "  print('Wrong input. Enter km/h!')\n",
        "else:\n",
        "  difference = actual_speed - speed_limit\n",
        "  fine = difference * 3\n",
        "  if speed_limit >= actual_speed:\n",
        "    print('Speed limit not exceeded. No fine appliec.')\n",
        "  else:\n",
        "    if fine <= 190:\n",
        "      print(f\"Your fine is {fine}\")\n",
        "    else:\n",
        "      print(\"Laura, your fine 100 eur\")\n"
      ],
      "metadata": {
        "colab": {
          "base_uri": "https://localhost:8080/"
        },
        "id": "UrrcdKS3Zqu7",
        "outputId": "5930dd19-b3a4-42f2-d6a8-f432c50d3135"
      },
      "execution_count": 14,
      "outputs": [
        {
          "output_type": "stream",
          "name": "stdout",
          "text": [
            "Enter your name: Laura\n",
            "Enter the speed limit (km/h): 50\n",
            "Enter your actual speed (km/h): 80\n",
            "Your fine is 90\n"
          ]
        }
      ]
    },
    {
      "cell_type": "code",
      "source": [
        "# l\n",
        "ists [ \" \", \" \"  ]\n",
        "flowers = \"pink primrose,hard-leaved pocket orchid,canterbury bells,sweet pea,english marigold,tiger lily,moon orchid,bird of paradise,monkshood,globe thistle\"\n",
        "print(type(flowers))\n"
      ],
      "metadata": {
        "colab": {
          "base_uri": "https://localhost:8080/"
        },
        "id": "d4IaLZpiirGI",
        "outputId": "5e66d848-77c3-49f5-b63b-565d3078e759"
      },
      "execution_count": 15,
      "outputs": [
        {
          "output_type": "stream",
          "name": "stdout",
          "text": [
            "<class 'str'>\n"
          ]
        }
      ]
    },
    {
      "cell_type": "code",
      "source": [
        "# saliek visu String kvadrātiekavās un katru item pēdiņās (dubultās vai plānajās)\n",
        "flowers = [\"pink primrose\", \"hard-leaved pocket orchid\", \"canterbury bells\", \"sweet pea\", \"english marigold\", \"tiger lily\", \"moon orchid\", \"bird of paradise\", \"monkshood\", \"globe thistle\"]\n",
        "print(type(flowers))"
      ],
      "metadata": {
        "colab": {
          "base_uri": "https://localhost:8080/"
        },
        "id": "vGrVJyzwjGFB",
        "outputId": "6ac35a88-78c6-4027-916a-e210f41ccab4"
      },
      "execution_count": 18,
      "outputs": [
        {
          "output_type": "stream",
          "name": "stdout",
          "text": [
            "<class 'list'>\n"
          ]
        }
      ]
    },
    {
      "cell_type": "code",
      "source": [
        "# how many items in the list? len jeb length function\n",
        "print(len(flowers))"
      ],
      "metadata": {
        "colab": {
          "base_uri": "https://localhost:8080/"
        },
        "id": "SaPXmICdkH0S",
        "outputId": "95e9f784-10c0-4f39-972d-b1fc40f4ccc8"
      },
      "execution_count": 19,
      "outputs": [
        {
          "output_type": "stream",
          "name": "stdout",
          "text": [
            "10\n"
          ]
        }
      ]
    },
    {
      "cell_type": "code",
      "source": [
        "# indexing - print a certain item from the list: count starts from 0, not from 1\n",
        "print('First entry:', flowers[0])\n",
        "print('Last entry:', flowers[-1])\n",
        "print('Several items from list:', flowers[1:5])\n",
        "print('All from the beginning up to 6th:', flowers[:5])\n",
        "print('Every second item:', flowers[::2])\n",
        "#print every oter item by for-loop:\n",
        "for item in flowers[::2]:\n",
        "    print(item)"
      ],
      "metadata": {
        "colab": {
          "base_uri": "https://localhost:8080/"
        },
        "id": "Q9EJa5WSkiXx",
        "outputId": "8abbbb61-ebc9-4ff9-80ac-0e225161e3f2"
      },
      "execution_count": 33,
      "outputs": [
        {
          "output_type": "stream",
          "name": "stdout",
          "text": [
            "First entry: pink primrose\n",
            "Last entry: globe thistle\n",
            "Several items from list: ['hard-leaved pocket orchid', 'canterbury bells', 'sweet pea', 'english marigold']\n",
            "All from the beginning up to 6th: ['pink primrose', 'hard-leaved pocket orchid', 'canterbury bells', 'sweet pea', 'english marigold']\n",
            "Every second item: ['pink primrose', 'canterbury bells', 'english marigold', 'moon orchid', 'monkshood']\n",
            "pink primrose\n",
            "canterbury bells\n",
            "english marigold\n",
            "moon orchid\n",
            "monkshood\n"
          ]
        }
      ]
    },
    {
      "cell_type": "code",
      "source": [
        "# list with different types of elements:\n",
        "my_list = ['one', 'two', 'three', 4, 5]\n",
        "print(my_list[3])\n",
        "print(my_list[-2])"
      ],
      "metadata": {
        "colab": {
          "base_uri": "https://localhost:8080/"
        },
        "id": "nPiC_pyyoIxc",
        "outputId": "13355c8e-03d3-420e-bf40-7615a704b5fe"
      },
      "execution_count": 35,
      "outputs": [
        {
          "output_type": "stream",
          "name": "stdout",
          "text": [
            "4\n",
            "4\n"
          ]
        }
      ]
    },
    {
      "cell_type": "code",
      "source": [
        "my_list + ['new item'] #adding a new item to existing list"
      ],
      "metadata": {
        "colab": {
          "base_uri": "https://localhost:8080/"
        },
        "id": "QHYX4c11oywI",
        "outputId": "cd12de42-9f96-4e6a-e5bf-2a7fe0424182"
      },
      "execution_count": 37,
      "outputs": [
        {
          "output_type": "execute_result",
          "data": {
            "text/plain": [
              "['one', 'two', 'three', 4, 5, 'new item']"
            ]
          },
          "metadata": {},
          "execution_count": 37
        }
      ]
    },
    {
      "cell_type": "code",
      "source": [
        "my_list"
      ],
      "metadata": {
        "colab": {
          "base_uri": "https://localhost:8080/"
        },
        "id": "wyPG4W4jpOV7",
        "outputId": "31e5f91f-2af2-4b6d-efb3-5f8cad230f4e"
      },
      "execution_count": 38,
      "outputs": [
        {
          "output_type": "execute_result",
          "data": {
            "text/plain": [
              "['one', 'two', 'three', 4, 5]"
            ]
          },
          "metadata": {},
          "execution_count": 38
        }
      ]
    },
    {
      "cell_type": "code",
      "source": [
        "my_list == my_list + ['new item']### nesapratu kā apdeitot!!!!\n",
        "print(my_list)"
      ],
      "metadata": {
        "colab": {
          "base_uri": "https://localhost:8080/"
        },
        "id": "HyCSxJaipUyP",
        "outputId": "e0fd9559-c8b6-4a74-a9da-acfc5c7ed038"
      },
      "execution_count": 51,
      "outputs": [
        {
          "output_type": "stream",
          "name": "stdout",
          "text": [
            "['one', 2, 'three', 'append me', 'append me', 'append me']\n"
          ]
        }
      ]
    },
    {
      "cell_type": "code",
      "source": [
        "my_list[1] = 2 # replace certain item from the list with another item\n",
        "print(my_list)"
      ],
      "metadata": {
        "colab": {
          "base_uri": "https://localhost:8080/"
        },
        "id": "4QGOJCdOpoya",
        "outputId": "013c9c60-a5dc-4fa6-c0e5-c34bf186e979"
      },
      "execution_count": 43,
      "outputs": [
        {
          "output_type": "stream",
          "name": "stdout",
          "text": [
            "['one', 2, 'three', 4, 5]\n"
          ]
        }
      ]
    },
    {
      "cell_type": "code",
      "source": [
        "# append method ('append me') pievieno items list beigās\n",
        "my_list.append('append me')\n",
        "print(my_list)"
      ],
      "metadata": {
        "colab": {
          "base_uri": "https://localhost:8080/"
        },
        "id": "kSvgdRsIqLUj",
        "outputId": "ae090678-d387-43c4-a8e7-6c0943d3337d"
      },
      "execution_count": 50,
      "outputs": [
        {
          "output_type": "stream",
          "name": "stdout",
          "text": [
            "['one', 2, 'three', 'append me', 'append me', 'append me']\n"
          ]
        }
      ]
    },
    {
      "cell_type": "code",
      "source": [
        "#remove item\n",
        "my_list.pop(3)\n",
        "print(my_list)"
      ],
      "metadata": {
        "colab": {
          "base_uri": "https://localhost:8080/"
        },
        "id": "MARvwz9rrEJD",
        "outputId": "243287ee-bbd6-4b89-a7cd-b134d85ba1c9"
      },
      "execution_count": 49,
      "outputs": [
        {
          "output_type": "stream",
          "name": "stdout",
          "text": [
            "['one', 2, 'three', 'append me', 'append me']\n"
          ]
        }
      ]
    },
    {
      "cell_type": "markdown",
      "source": [
        "Teamwork 13.04.\n"
      ],
      "metadata": {
        "id": "5Umjn75MWeqG"
      }
    },
    {
      "cell_type": "code",
      "source": [
        "Group Work 13.04.2024\n",
        "\n",
        "\n",
        "# 1.Define a list of numbers [10, 20, 30, 40, 50].\n",
        "numbers = [10, 20, 30, 40, 50]\n",
        "print(numbers)\n",
        "\n",
        "#2.Print the length of the list.\n",
        "print(len(numbers))\n",
        "\n",
        "#3.Print the first element of the list.\n",
        "print(numbers[0])\n",
        "\n",
        "#4.Print the last element of the list.\n",
        "print(numbers[-1])\n",
        "\n",
        "#5.Append a new number (e.g., 60) to the list.\n",
        "numbers.append(60)\n",
        "\n",
        "\n",
        "#6.Print the updated list.\n",
        "print(numbers)\n",
        "\n",
        "#7.Remove the second element from the list.\n",
        "numbers.pop(1)\n",
        "\n",
        "#8.Print the list after removal.\n",
        "print(numbers)\n",
        "\n",
        "#9.Check if a specific number (e.g., 30) exists in the list and print the result.\n",
        "if 30 in numbers:\n",
        "  print('numbers found')\n",
        "else:\n",
        "  print('does not exist')"
      ],
      "metadata": {
        "id": "0Ui7sw2hWtU2"
      },
      "execution_count": null,
      "outputs": []
    }
  ]
}