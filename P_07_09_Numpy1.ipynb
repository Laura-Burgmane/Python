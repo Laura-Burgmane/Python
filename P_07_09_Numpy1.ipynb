{
  "nbformat": 4,
  "nbformat_minor": 0,
  "metadata": {
    "colab": {
      "provenance": [],
      "authorship_tag": "ABX9TyOMWYlwxgULtZxEg5uKXx9q",
      "include_colab_link": true
    },
    "kernelspec": {
      "name": "python3",
      "display_name": "Python 3"
    },
    "language_info": {
      "name": "python"
    }
  },
  "cells": [
    {
      "cell_type": "markdown",
      "metadata": {
        "id": "view-in-github",
        "colab_type": "text"
      },
      "source": [
        "<a href=\"https://colab.research.google.com/github/Laura-Burgmane/Python/blob/main/P_07_09_Numpy1.ipynb\" target=\"_parent\"><img src=\"https://colab.research.google.com/assets/colab-badge.svg\" alt=\"Open In Colab\"/></a>"
      ]
    },
    {
      "cell_type": "code",
      "execution_count": 1,
      "metadata": {
        "id": "pkSPrpasU_yX"
      },
      "outputs": [],
      "source": [
        "import numpy as np"
      ]
    },
    {
      "cell_type": "code",
      "source": [
        "coin = ['Heads', 'Tails']#1dimensiona array==list\n"
      ],
      "metadata": {
        "id": "nfLDOhT1Vfi6"
      },
      "execution_count": 4,
      "outputs": []
    },
    {
      "cell_type": "code",
      "source": [
        "coin"
      ],
      "metadata": {
        "colab": {
          "base_uri": "https://localhost:8080/"
        },
        "id": "a7RKIWSMVpdS",
        "outputId": "060001c0-a3ce-46bb-e80c-4e3ed7d6024e"
      },
      "execution_count": 5,
      "outputs": [
        {
          "output_type": "execute_result",
          "data": {
            "text/plain": [
              "['Heads', 'Tails']"
            ]
          },
          "metadata": {},
          "execution_count": 5
        }
      ]
    },
    {
      "cell_type": "code",
      "source": [
        "number_of_throws = 1000 #size"
      ],
      "metadata": {
        "id": "LsNx1rZxV2g_"
      },
      "execution_count": 8,
      "outputs": []
    },
    {
      "cell_type": "code",
      "source": [
        "tosses = np.random.choice(coin, number_of_throws)\n"
      ],
      "metadata": {
        "id": "dGz70fXCV7u2"
      },
      "execution_count": 10,
      "outputs": []
    },
    {
      "cell_type": "code",
      "source": [
        "print(f'The results of coin toss simulation for {number_of_throws} throws are: {tosses}')"
      ],
      "metadata": {
        "colab": {
          "base_uri": "https://localhost:8080/"
        },
        "id": "ttinfbtYWZm5",
        "outputId": "75f11158-d387-4e72-e85e-ce206f995a34"
      },
      "execution_count": 11,
      "outputs": [
        {
          "output_type": "stream",
          "name": "stdout",
          "text": [
            "The results of coin toss simulation for 1000 throws are: ['Heads' 'Heads' 'Heads' 'Tails' 'Heads' 'Tails' 'Tails' 'Tails' 'Heads'\n",
            " 'Heads' 'Heads' 'Heads' 'Heads' 'Tails' 'Tails' 'Tails' 'Tails' 'Heads'\n",
            " 'Heads' 'Heads' 'Tails' 'Tails' 'Heads' 'Tails' 'Tails' 'Tails' 'Heads'\n",
            " 'Tails' 'Tails' 'Tails' 'Tails' 'Heads' 'Heads' 'Heads' 'Tails' 'Tails'\n",
            " 'Tails' 'Heads' 'Tails' 'Tails' 'Tails' 'Heads' 'Heads' 'Heads' 'Heads'\n",
            " 'Heads' 'Heads' 'Tails' 'Tails' 'Heads' 'Tails' 'Heads' 'Heads' 'Tails'\n",
            " 'Tails' 'Tails' 'Tails' 'Tails' 'Heads' 'Tails' 'Tails' 'Heads' 'Tails'\n",
            " 'Tails' 'Tails' 'Heads' 'Tails' 'Heads' 'Tails' 'Heads' 'Tails' 'Tails'\n",
            " 'Heads' 'Heads' 'Heads' 'Heads' 'Heads' 'Tails' 'Tails' 'Heads' 'Tails'\n",
            " 'Heads' 'Heads' 'Heads' 'Heads' 'Heads' 'Heads' 'Heads' 'Heads' 'Heads'\n",
            " 'Tails' 'Tails' 'Tails' 'Tails' 'Tails' 'Heads' 'Tails' 'Heads' 'Heads'\n",
            " 'Tails' 'Heads' 'Heads' 'Heads' 'Tails' 'Heads' 'Heads' 'Tails' 'Tails'\n",
            " 'Tails' 'Heads' 'Tails' 'Tails' 'Tails' 'Tails' 'Heads' 'Heads' 'Tails'\n",
            " 'Tails' 'Heads' 'Heads' 'Heads' 'Tails' 'Heads' 'Tails' 'Heads' 'Heads'\n",
            " 'Tails' 'Tails' 'Heads' 'Heads' 'Tails' 'Tails' 'Tails' 'Heads' 'Heads'\n",
            " 'Heads' 'Heads' 'Tails' 'Heads' 'Heads' 'Heads' 'Heads' 'Heads' 'Heads'\n",
            " 'Tails' 'Tails' 'Tails' 'Tails' 'Tails' 'Tails' 'Tails' 'Heads' 'Tails'\n",
            " 'Heads' 'Heads' 'Tails' 'Heads' 'Tails' 'Heads' 'Heads' 'Heads' 'Heads'\n",
            " 'Heads' 'Heads' 'Tails' 'Heads' 'Tails' 'Heads' 'Tails' 'Heads' 'Tails'\n",
            " 'Heads' 'Tails' 'Heads' 'Tails' 'Heads' 'Tails' 'Heads' 'Tails' 'Tails'\n",
            " 'Tails' 'Heads' 'Heads' 'Tails' 'Tails' 'Tails' 'Tails' 'Heads' 'Tails'\n",
            " 'Tails' 'Tails' 'Tails' 'Tails' 'Heads' 'Heads' 'Tails' 'Heads' 'Heads'\n",
            " 'Tails' 'Tails' 'Heads' 'Heads' 'Tails' 'Tails' 'Tails' 'Tails' 'Tails'\n",
            " 'Tails' 'Heads' 'Heads' 'Heads' 'Tails' 'Tails' 'Tails' 'Tails' 'Tails'\n",
            " 'Heads' 'Heads' 'Tails' 'Tails' 'Heads' 'Heads' 'Tails' 'Heads' 'Tails'\n",
            " 'Heads' 'Tails' 'Heads' 'Tails' 'Tails' 'Tails' 'Tails' 'Tails' 'Heads'\n",
            " 'Heads' 'Tails' 'Heads' 'Tails' 'Tails' 'Tails' 'Heads' 'Tails' 'Heads'\n",
            " 'Tails' 'Heads' 'Heads' 'Heads' 'Heads' 'Heads' 'Heads' 'Heads' 'Tails'\n",
            " 'Tails' 'Heads' 'Tails' 'Tails' 'Tails' 'Tails' 'Heads' 'Tails' 'Tails'\n",
            " 'Heads' 'Tails' 'Heads' 'Tails' 'Tails' 'Tails' 'Tails' 'Heads' 'Tails'\n",
            " 'Heads' 'Heads' 'Heads' 'Heads' 'Tails' 'Tails' 'Tails' 'Heads' 'Heads'\n",
            " 'Tails' 'Heads' 'Tails' 'Heads' 'Heads' 'Heads' 'Tails' 'Heads' 'Tails'\n",
            " 'Tails' 'Heads' 'Heads' 'Heads' 'Heads' 'Heads' 'Tails' 'Heads' 'Heads'\n",
            " 'Heads' 'Tails' 'Heads' 'Heads' 'Heads' 'Heads' 'Heads' 'Tails' 'Tails'\n",
            " 'Tails' 'Heads' 'Heads' 'Heads' 'Heads' 'Heads' 'Tails' 'Heads' 'Tails'\n",
            " 'Heads' 'Tails' 'Heads' 'Heads' 'Tails' 'Tails' 'Heads' 'Heads' 'Tails'\n",
            " 'Heads' 'Heads' 'Tails' 'Tails' 'Tails' 'Heads' 'Heads' 'Heads' 'Tails'\n",
            " 'Tails' 'Tails' 'Heads' 'Tails' 'Tails' 'Heads' 'Heads' 'Heads' 'Tails'\n",
            " 'Heads' 'Tails' 'Tails' 'Heads' 'Heads' 'Heads' 'Heads' 'Tails' 'Tails'\n",
            " 'Tails' 'Heads' 'Tails' 'Heads' 'Heads' 'Tails' 'Heads' 'Heads' 'Heads'\n",
            " 'Tails' 'Heads' 'Heads' 'Heads' 'Heads' 'Tails' 'Heads' 'Tails' 'Tails'\n",
            " 'Heads' 'Heads' 'Heads' 'Tails' 'Heads' 'Tails' 'Heads' 'Tails' 'Heads'\n",
            " 'Tails' 'Tails' 'Heads' 'Tails' 'Tails' 'Heads' 'Tails' 'Heads' 'Heads'\n",
            " 'Heads' 'Tails' 'Tails' 'Heads' 'Tails' 'Heads' 'Tails' 'Heads' 'Tails'\n",
            " 'Tails' 'Heads' 'Tails' 'Tails' 'Heads' 'Heads' 'Tails' 'Heads' 'Heads'\n",
            " 'Heads' 'Tails' 'Heads' 'Heads' 'Heads' 'Heads' 'Heads' 'Tails' 'Tails'\n",
            " 'Heads' 'Heads' 'Tails' 'Heads' 'Heads' 'Tails' 'Heads' 'Heads' 'Tails'\n",
            " 'Heads' 'Tails' 'Tails' 'Tails' 'Tails' 'Heads' 'Heads' 'Heads' 'Heads'\n",
            " 'Tails' 'Heads' 'Heads' 'Tails' 'Heads' 'Tails' 'Heads' 'Tails' 'Heads'\n",
            " 'Heads' 'Heads' 'Tails' 'Tails' 'Tails' 'Heads' 'Tails' 'Tails' 'Heads'\n",
            " 'Tails' 'Tails' 'Heads' 'Tails' 'Heads' 'Heads' 'Heads' 'Tails' 'Heads'\n",
            " 'Tails' 'Heads' 'Tails' 'Heads' 'Tails' 'Heads' 'Tails' 'Tails' 'Tails'\n",
            " 'Heads' 'Heads' 'Tails' 'Tails' 'Heads' 'Tails' 'Tails' 'Tails' 'Heads'\n",
            " 'Heads' 'Tails' 'Heads' 'Tails' 'Heads' 'Tails' 'Heads' 'Heads' 'Tails'\n",
            " 'Tails' 'Heads' 'Heads' 'Tails' 'Tails' 'Heads' 'Tails' 'Heads' 'Heads'\n",
            " 'Tails' 'Tails' 'Heads' 'Tails' 'Heads' 'Tails' 'Heads' 'Heads' 'Heads'\n",
            " 'Tails' 'Heads' 'Heads' 'Tails' 'Tails' 'Tails' 'Tails' 'Tails' 'Heads'\n",
            " 'Heads' 'Heads' 'Heads' 'Heads' 'Tails' 'Heads' 'Tails' 'Tails' 'Tails'\n",
            " 'Tails' 'Heads' 'Heads' 'Tails' 'Tails' 'Heads' 'Heads' 'Heads' 'Tails'\n",
            " 'Heads' 'Tails' 'Heads' 'Tails' 'Heads' 'Tails' 'Heads' 'Heads' 'Heads'\n",
            " 'Tails' 'Heads' 'Tails' 'Heads' 'Tails' 'Heads' 'Tails' 'Tails' 'Heads'\n",
            " 'Tails' 'Heads' 'Tails' 'Tails' 'Tails' 'Tails' 'Heads' 'Heads' 'Tails'\n",
            " 'Heads' 'Tails' 'Tails' 'Heads' 'Heads' 'Tails' 'Heads' 'Tails' 'Tails'\n",
            " 'Tails' 'Tails' 'Heads' 'Heads' 'Tails' 'Tails' 'Heads' 'Heads' 'Tails'\n",
            " 'Tails' 'Tails' 'Heads' 'Tails' 'Heads' 'Tails' 'Tails' 'Heads' 'Heads'\n",
            " 'Tails' 'Tails' 'Tails' 'Heads' 'Heads' 'Heads' 'Tails' 'Tails' 'Heads'\n",
            " 'Tails' 'Tails' 'Heads' 'Heads' 'Tails' 'Heads' 'Tails' 'Tails' 'Tails'\n",
            " 'Heads' 'Heads' 'Tails' 'Tails' 'Heads' 'Heads' 'Tails' 'Tails' 'Tails'\n",
            " 'Tails' 'Tails' 'Heads' 'Tails' 'Tails' 'Tails' 'Tails' 'Heads' 'Heads'\n",
            " 'Tails' 'Heads' 'Tails' 'Tails' 'Heads' 'Tails' 'Heads' 'Tails' 'Heads'\n",
            " 'Heads' 'Heads' 'Heads' 'Heads' 'Heads' 'Tails' 'Heads' 'Tails' 'Heads'\n",
            " 'Tails' 'Heads' 'Heads' 'Heads' 'Tails' 'Heads' 'Tails' 'Heads' 'Heads'\n",
            " 'Heads' 'Heads' 'Tails' 'Tails' 'Tails' 'Tails' 'Tails' 'Tails' 'Heads'\n",
            " 'Heads' 'Tails' 'Tails' 'Tails' 'Heads' 'Tails' 'Tails' 'Heads' 'Heads'\n",
            " 'Tails' 'Tails' 'Tails' 'Heads' 'Tails' 'Tails' 'Heads' 'Tails' 'Heads'\n",
            " 'Tails' 'Heads' 'Tails' 'Heads' 'Heads' 'Tails' 'Tails' 'Tails' 'Heads'\n",
            " 'Tails' 'Tails' 'Heads' 'Tails' 'Heads' 'Tails' 'Heads' 'Tails' 'Heads'\n",
            " 'Heads' 'Heads' 'Tails' 'Tails' 'Heads' 'Heads' 'Heads' 'Tails' 'Heads'\n",
            " 'Heads' 'Tails' 'Tails' 'Tails' 'Heads' 'Heads' 'Tails' 'Heads' 'Tails'\n",
            " 'Tails' 'Tails' 'Tails' 'Heads' 'Tails' 'Heads' 'Heads' 'Tails' 'Tails'\n",
            " 'Heads' 'Heads' 'Heads' 'Tails' 'Heads' 'Tails' 'Tails' 'Heads' 'Heads'\n",
            " 'Heads' 'Tails' 'Tails' 'Tails' 'Heads' 'Heads' 'Tails' 'Tails' 'Heads'\n",
            " 'Tails' 'Heads' 'Heads' 'Heads' 'Heads' 'Heads' 'Tails' 'Tails' 'Heads'\n",
            " 'Tails' 'Tails' 'Tails' 'Heads' 'Tails' 'Heads' 'Tails' 'Tails' 'Heads'\n",
            " 'Tails' 'Heads' 'Tails' 'Tails' 'Tails' 'Tails' 'Tails' 'Heads' 'Tails'\n",
            " 'Heads' 'Heads' 'Heads' 'Heads' 'Tails' 'Tails' 'Heads' 'Heads' 'Tails'\n",
            " 'Heads' 'Heads' 'Tails' 'Tails' 'Tails' 'Heads' 'Heads' 'Tails' 'Tails'\n",
            " 'Heads' 'Tails' 'Heads' 'Tails' 'Heads' 'Heads' 'Tails' 'Tails' 'Tails'\n",
            " 'Tails' 'Heads' 'Tails' 'Heads' 'Tails' 'Heads' 'Heads' 'Tails' 'Tails'\n",
            " 'Heads' 'Heads' 'Heads' 'Heads' 'Tails' 'Heads' 'Heads' 'Heads' 'Heads'\n",
            " 'Tails' 'Tails' 'Tails' 'Heads' 'Heads' 'Heads' 'Tails' 'Heads' 'Tails'\n",
            " 'Tails' 'Tails' 'Heads' 'Tails' 'Heads' 'Tails' 'Tails' 'Heads' 'Heads'\n",
            " 'Tails' 'Heads' 'Tails' 'Tails' 'Tails' 'Tails' 'Heads' 'Heads' 'Heads'\n",
            " 'Tails' 'Heads' 'Heads' 'Tails' 'Tails' 'Tails' 'Heads' 'Heads' 'Heads'\n",
            " 'Heads' 'Tails' 'Tails' 'Tails' 'Tails' 'Tails' 'Heads' 'Tails' 'Tails'\n",
            " 'Heads' 'Tails' 'Heads' 'Tails' 'Tails' 'Tails' 'Tails' 'Tails' 'Heads'\n",
            " 'Heads' 'Tails' 'Heads' 'Heads' 'Tails' 'Tails' 'Tails' 'Tails' 'Heads'\n",
            " 'Heads' 'Heads' 'Heads' 'Tails' 'Tails' 'Heads' 'Heads' 'Tails' 'Tails'\n",
            " 'Tails' 'Tails' 'Tails' 'Heads' 'Tails' 'Heads' 'Heads' 'Tails' 'Tails'\n",
            " 'Tails' 'Heads' 'Heads' 'Tails' 'Heads' 'Tails' 'Heads' 'Tails' 'Heads'\n",
            " 'Heads' 'Tails' 'Tails' 'Heads' 'Heads' 'Heads' 'Tails' 'Heads' 'Tails'\n",
            " 'Tails' 'Tails' 'Heads' 'Tails' 'Heads' 'Tails' 'Tails' 'Heads' 'Heads'\n",
            " 'Tails' 'Heads' 'Heads' 'Tails' 'Tails' 'Tails' 'Tails' 'Tails' 'Heads'\n",
            " 'Tails' 'Tails' 'Heads' 'Heads' 'Tails' 'Tails' 'Tails' 'Tails' 'Heads'\n",
            " 'Heads' 'Heads' 'Tails' 'Heads' 'Heads' 'Heads' 'Heads' 'Tails' 'Tails'\n",
            " 'Heads' 'Tails' 'Tails' 'Heads' 'Tails' 'Tails' 'Heads' 'Tails' 'Heads'\n",
            " 'Heads' 'Tails' 'Heads' 'Heads' 'Heads' 'Tails' 'Heads' 'Heads' 'Heads'\n",
            " 'Heads' 'Heads' 'Heads' 'Tails' 'Tails' 'Tails' 'Tails' 'Heads' 'Tails'\n",
            " 'Tails' 'Heads' 'Tails' 'Heads' 'Heads' 'Tails' 'Tails' 'Heads' 'Tails'\n",
            " 'Heads' 'Tails' 'Heads' 'Tails' 'Tails' 'Heads' 'Heads' 'Heads' 'Tails'\n",
            " 'Heads' 'Heads' 'Heads' 'Heads' 'Tails' 'Tails' 'Heads' 'Heads' 'Heads'\n",
            " 'Tails']\n"
          ]
        }
      ]
    },
    {
      "cell_type": "code",
      "source": [
        "# number of Heads\n",
        "nr_heads = np.sum(tosses=='Heads')"
      ],
      "metadata": {
        "id": "PbQnWS6eXhc-"
      },
      "execution_count": 14,
      "outputs": []
    },
    {
      "cell_type": "code",
      "source": [
        "# number of Tails\n",
        "nr_tails = np.sum(tosses=='Tails')"
      ],
      "metadata": {
        "id": "_YCJuRx9Xuku"
      },
      "execution_count": 15,
      "outputs": []
    },
    {
      "cell_type": "code",
      "source": [
        "#Chances\n",
        "prob_heads = nr_heads/number_of_throws\n",
        "prob_tails = nr_tails/number_of_throws"
      ],
      "metadata": {
        "id": "oBdLSPMkX7fN"
      },
      "execution_count": 20,
      "outputs": []
    },
    {
      "cell_type": "code",
      "source": [
        "print('Chances of heads: {prob_heads}') #error with f-string!!!!! check spelling!!!\n",
        "print('Chances of tails is: {prob_tails}')"
      ],
      "metadata": {
        "colab": {
          "base_uri": "https://localhost:8080/"
        },
        "id": "3BMKGChOYUjW",
        "outputId": "59c5b9f5-9acc-40ed-a917-16fd099c432d"
      },
      "execution_count": 21,
      "outputs": [
        {
          "output_type": "stream",
          "name": "stdout",
          "text": [
            "Chances of heads: {prob_heads}\n",
            "Chances of tails is: {prob_tails}\n"
          ]
        }
      ]
    },
    {
      "cell_type": "code",
      "source": [
        "my_list = [1,2,3] #python list\n",
        "my_list"
      ],
      "metadata": {
        "colab": {
          "base_uri": "https://localhost:8080/"
        },
        "id": "JcIAnw-GZPDC",
        "outputId": "0d893d9c-a5f0-4b24-942c-9d5c2e82ff02"
      },
      "execution_count": 22,
      "outputs": [
        {
          "output_type": "execute_result",
          "data": {
            "text/plain": [
              "[1, 2, 3]"
            ]
          },
          "metadata": {},
          "execution_count": 22
        }
      ]
    },
    {
      "cell_type": "code",
      "source": [
        "import sys"
      ],
      "metadata": {
        "id": "AtvPD3TdZVUO"
      },
      "execution_count": 23,
      "outputs": []
    },
    {
      "cell_type": "code",
      "source": [
        "size_of_my_py_list = sys.getsizeof(my_list)\n",
        "print(f'Size of my py list is:', size_of_my_py_list) #bytes !!!pay attention to f-string writing style"
      ],
      "metadata": {
        "colab": {
          "base_uri": "https://localhost:8080/"
        },
        "id": "GVJz4DUqZYik",
        "outputId": "9154b9a5-d2ef-4acd-bd15-afa7f7d2ce49"
      },
      "execution_count": 25,
      "outputs": [
        {
          "output_type": "stream",
          "name": "stdout",
          "text": [
            "Size of my py list is: 88\n"
          ]
        }
      ]
    },
    {
      "cell_type": "code",
      "source": [
        "my_array = np.array(my_list)\n",
        "my_array"
      ],
      "metadata": {
        "colab": {
          "base_uri": "https://localhost:8080/"
        },
        "id": "D3tT_NgTZzK5",
        "outputId": "f9f2ed7b-fd3c-45ac-a48c-7027a06d0dbf"
      },
      "execution_count": 26,
      "outputs": [
        {
          "output_type": "execute_result",
          "data": {
            "text/plain": [
              "array([1, 2, 3])"
            ]
          },
          "metadata": {},
          "execution_count": 26
        }
      ]
    },
    {
      "cell_type": "code",
      "source": [
        "size_of_array = my_array.nbytes\n",
        "print(f'Size of numpy array is:', size_of_array)"
      ],
      "metadata": {
        "colab": {
          "base_uri": "https://localhost:8080/"
        },
        "id": "UJZmGKtBaNGu",
        "outputId": "dd3ba5f7-8915-441a-941d-713518bf9cdb"
      },
      "execution_count": 30,
      "outputs": [
        {
          "output_type": "stream",
          "name": "stdout",
          "text": [
            "Size of numpy array is: 24\n"
          ]
        }
      ]
    },
    {
      "cell_type": "code",
      "source": [
        "size_of_array = my_array.nbytes\n",
        "print(f'Size of numpy array is:', size_of_array)"
      ],
      "metadata": {
        "colab": {
          "base_uri": "https://localhost:8080/"
        },
        "id": "Ix-0gVMgbD3i",
        "outputId": "0a166d37-8f42-422a-be61-9caf6a626d1f"
      },
      "execution_count": 32,
      "outputs": [
        {
          "output_type": "stream",
          "name": "stdout",
          "text": [
            "Size of numpy array is: 24\n"
          ]
        }
      ]
    },
    {
      "cell_type": "code",
      "source": [
        "test_list = [1,2,3,'Autumn', 0.3, True]\n",
        "test_list"
      ],
      "metadata": {
        "colab": {
          "base_uri": "https://localhost:8080/"
        },
        "id": "RdqtfQW5cHZy",
        "outputId": "e807c0b1-5a1f-47db-b831-83838887147b"
      },
      "execution_count": 33,
      "outputs": [
        {
          "output_type": "execute_result",
          "data": {
            "text/plain": [
              "[1, 2, 3, 'Autumn', 0.3, True]"
            ]
          },
          "metadata": {},
          "execution_count": 33
        }
      ]
    },
    {
      "cell_type": "code",
      "source": [
        "test_list_array = np.array(test_list)\n",
        "test_list_array"
      ],
      "metadata": {
        "colab": {
          "base_uri": "https://localhost:8080/"
        },
        "id": "GYGrPjpBcSQJ",
        "outputId": "35b6082e-6bcd-47a6-a06c-8e8e5caf88bc"
      },
      "execution_count": 34,
      "outputs": [
        {
          "output_type": "execute_result",
          "data": {
            "text/plain": [
              "array(['1', '2', '3', 'Autumn', '0.3', 'True'], dtype='<U32')"
            ]
          },
          "metadata": {},
          "execution_count": 34
        }
      ]
    },
    {
      "cell_type": "code",
      "source": [
        "#BUILT IN METHODS IN NUMPY\n",
        "#arrange\n",
        "np.arange(10)\n"
      ],
      "metadata": {
        "colab": {
          "base_uri": "https://localhost:8080/"
        },
        "id": "72Sq3hFBdFBM",
        "outputId": "fddb651a-1a48-418d-f98f-fa98d571ce9d"
      },
      "execution_count": 39,
      "outputs": [
        {
          "output_type": "execute_result",
          "data": {
            "text/plain": [
              "array([0, 1, 2, 3, 4, 5, 6, 7, 8, 9])"
            ]
          },
          "metadata": {},
          "execution_count": 39
        }
      ]
    },
    {
      "cell_type": "code",
      "source": [
        "np.arange(5,10)"
      ],
      "metadata": {
        "colab": {
          "base_uri": "https://localhost:8080/"
        },
        "id": "1Odx1t4ReAKk",
        "outputId": "c6822a2a-0fb6-4a14-b056-b51e20ea819b"
      },
      "execution_count": 38,
      "outputs": [
        {
          "output_type": "execute_result",
          "data": {
            "text/plain": [
              "array([5, 6, 7, 8, 9])"
            ]
          },
          "metadata": {},
          "execution_count": 38
        }
      ]
    },
    {
      "cell_type": "code",
      "source": [
        "np.arange(10,20,2)#sākums, beigas, soļa lielums"
      ],
      "metadata": {
        "colab": {
          "base_uri": "https://localhost:8080/"
        },
        "id": "I3InyxFVeC7E",
        "outputId": "d579b503-b7e6-4bcd-bd95-f7d0b64f9462"
      },
      "execution_count": 40,
      "outputs": [
        {
          "output_type": "execute_result",
          "data": {
            "text/plain": [
              "array([10, 12, 14, 16, 18])"
            ]
          },
          "metadata": {},
          "execution_count": 40
        }
      ]
    },
    {
      "cell_type": "code",
      "source": [],
      "metadata": {
        "id": "SY20Nv42eMeU"
      },
      "execution_count": null,
      "outputs": []
    },
    {
      "cell_type": "code",
      "source": [
        "np.arange(10, 20, 3)"
      ],
      "metadata": {
        "colab": {
          "base_uri": "https://localhost:8080/"
        },
        "id": "VPOqVeteeM13",
        "outputId": "9796739d-14bc-4186-d8d9-f1f5553e112e"
      },
      "execution_count": 41,
      "outputs": [
        {
          "output_type": "execute_result",
          "data": {
            "text/plain": [
              "array([10, 13, 16, 19])"
            ]
          },
          "metadata": {},
          "execution_count": 41
        }
      ]
    },
    {
      "cell_type": "code",
      "source": [
        "np.arange(10, 20, 3.5) #solis =daļskaitlis, visu rezultātu parāda daļskaitļos, arī veselos sk."
      ],
      "metadata": {
        "colab": {
          "base_uri": "https://localhost:8080/"
        },
        "id": "cHty-o4LeWSh",
        "outputId": "cc0a1cd4-4216-4b0f-cad4-42ad6abc8291"
      },
      "execution_count": 42,
      "outputs": [
        {
          "output_type": "execute_result",
          "data": {
            "text/plain": [
              "array([10. , 13.5, 17. ])"
            ]
          },
          "metadata": {},
          "execution_count": 42
        }
      ]
    },
    {
      "cell_type": "code",
      "source": [
        "#zeros\n",
        "np.zeros(3)"
      ],
      "metadata": {
        "colab": {
          "base_uri": "https://localhost:8080/"
        },
        "id": "8J3gnw3beldO",
        "outputId": "e774aff4-a0ba-45ed-b842-658bd8eacff7"
      },
      "execution_count": 43,
      "outputs": [
        {
          "output_type": "execute_result",
          "data": {
            "text/plain": [
              "array([0., 0., 0.])"
            ]
          },
          "metadata": {},
          "execution_count": 43
        }
      ]
    },
    {
      "cell_type": "code",
      "source": [
        "np.array((5,5))"
      ],
      "metadata": {
        "colab": {
          "base_uri": "https://localhost:8080/"
        },
        "id": "PUqO5dMSe6Na",
        "outputId": "ce996fa2-0f41-4aea-ae84-cb213f0747b4"
      },
      "execution_count": 45,
      "outputs": [
        {
          "output_type": "execute_result",
          "data": {
            "text/plain": [
              "array([5, 5])"
            ]
          },
          "metadata": {},
          "execution_count": 45
        }
      ]
    },
    {
      "cell_type": "code",
      "source": [
        "#ones\n",
        "np.ones(3)"
      ],
      "metadata": {
        "colab": {
          "base_uri": "https://localhost:8080/"
        },
        "id": "NCf_M5fJfdk_",
        "outputId": "d3305c43-1453-4f84-9e89-678977e1f108"
      },
      "execution_count": 46,
      "outputs": [
        {
          "output_type": "execute_result",
          "data": {
            "text/plain": [
              "array([1., 1., 1.])"
            ]
          },
          "metadata": {},
          "execution_count": 46
        }
      ]
    },
    {
      "cell_type": "code",
      "source": [
        "np.ones((10,5))#matrix var būt 10x10, vai 10x5, vai jebkuri citi \"režģa\" skaits"
      ],
      "metadata": {
        "colab": {
          "base_uri": "https://localhost:8080/"
        },
        "id": "XjNVjO46fkku",
        "outputId": "49661f82-cc9e-491e-9138-50e467c55930"
      },
      "execution_count": 56,
      "outputs": [
        {
          "output_type": "execute_result",
          "data": {
            "text/plain": [
              "array([[1., 1., 1., 1., 1.],\n",
              "       [1., 1., 1., 1., 1.],\n",
              "       [1., 1., 1., 1., 1.],\n",
              "       [1., 1., 1., 1., 1.],\n",
              "       [1., 1., 1., 1., 1.],\n",
              "       [1., 1., 1., 1., 1.],\n",
              "       [1., 1., 1., 1., 1.],\n",
              "       [1., 1., 1., 1., 1.],\n",
              "       [1., 1., 1., 1., 1.],\n",
              "       [1., 1., 1., 1., 1.]])"
            ]
          },
          "metadata": {},
          "execution_count": 56
        }
      ]
    },
    {
      "cell_type": "code",
      "source": [
        "#linespace\n",
        "np.linspace(100, 200, 33)#33 is number of items in array, not the interval"
      ],
      "metadata": {
        "colab": {
          "base_uri": "https://localhost:8080/"
        },
        "id": "94Wi9ldPd3kr",
        "outputId": "db15dc7b-a6d5-4a1e-947e-80d3b220eceb"
      },
      "execution_count": 59,
      "outputs": [
        {
          "output_type": "execute_result",
          "data": {
            "text/plain": [
              "array([100.   , 103.125, 106.25 , 109.375, 112.5  , 115.625, 118.75 ,\n",
              "       121.875, 125.   , 128.125, 131.25 , 134.375, 137.5  , 140.625,\n",
              "       143.75 , 146.875, 150.   , 153.125, 156.25 , 159.375, 162.5  ,\n",
              "       165.625, 168.75 , 171.875, 175.   , 178.125, 181.25 , 184.375,\n",
              "       187.5  , 190.625, 193.75 , 196.875, 200.   ])"
            ]
          },
          "metadata": {},
          "execution_count": 59
        }
      ]
    },
    {
      "cell_type": "code",
      "source": [
        "#eye =  identitātes matrica/identity matrix//diagonālē vieninieki, pārējās vērtības nulle - WTF?? ļoti matemātiski\n",
        "np.eye(4)"
      ],
      "metadata": {
        "colab": {
          "base_uri": "https://localhost:8080/"
        },
        "id": "idOrxcASlVRm",
        "outputId": "679966f8-9331-4166-d141-9a7cab6b2ed2"
      },
      "execution_count": 60,
      "outputs": [
        {
          "output_type": "execute_result",
          "data": {
            "text/plain": [
              "array([[1., 0., 0., 0.],\n",
              "       [0., 1., 0., 0.],\n",
              "       [0., 0., 1., 0.],\n",
              "       [0., 0., 0., 1.]])"
            ]
          },
          "metadata": {},
          "execution_count": 60
        }
      ]
    },
    {
      "cell_type": "code",
      "source": [
        "#random\n",
        "np.random.rand(2)# one dimention"
      ],
      "metadata": {
        "colab": {
          "base_uri": "https://localhost:8080/"
        },
        "id": "3G3o3G3GmDst",
        "outputId": "dcb32b1d-d089-4574-e7e2-d12d2fb7026a"
      },
      "execution_count": 62,
      "outputs": [
        {
          "output_type": "execute_result",
          "data": {
            "text/plain": [
              "array([0.11683024, 0.47002045])"
            ]
          },
          "metadata": {},
          "execution_count": 62
        }
      ]
    },
    {
      "cell_type": "code",
      "source": [
        "np.random.rand(2,4) # two dimentions"
      ],
      "metadata": {
        "colab": {
          "base_uri": "https://localhost:8080/"
        },
        "id": "PIxFu-b2mex6",
        "outputId": "044ae3ac-eeb3-46c8-dbf0-b934ac888307"
      },
      "execution_count": 63,
      "outputs": [
        {
          "output_type": "execute_result",
          "data": {
            "text/plain": [
              "array([[0.51891572, 0.19106567, 0.29656509, 0.44793121],\n",
              "       [0.87431621, 0.02521312, 0.67860852, 0.24025868]])"
            ]
          },
          "metadata": {},
          "execution_count": 63
        }
      ]
    },
    {
      "cell_type": "code",
      "source": [
        "coordinates = np.random.rand(2)\n",
        "x = coordinates[0] #first value of the array (always 0)\n",
        "y = coordinates[1] #second value of the array"
      ],
      "metadata": {
        "id": "doQAhAQPmm8b"
      },
      "execution_count": 67,
      "outputs": []
    },
    {
      "cell_type": "code",
      "source": [
        "import matplotlib.pyplot as plt"
      ],
      "metadata": {
        "id": "rFuTZ3Tim7it"
      },
      "execution_count": 64,
      "outputs": []
    },
    {
      "cell_type": "code",
      "source": [
        "plt.scatter(x, y, s=100)\n",
        "plt.title('Randomly selected coordinates')\n",
        "plt.xlabel('X')\n",
        "plt.ylabel('Y')\n",
        "plt.grid=True #kāpēc nerāda gridu? arī ne ar plt.grid(True)\n"
      ],
      "metadata": {
        "colab": {
          "base_uri": "https://localhost:8080/",
          "height": 472
        },
        "id": "Rm0jBitmnDxS",
        "outputId": "3cced457-a887-4fbf-ab1d-fc17260dc887"
      },
      "execution_count": 76,
      "outputs": [
        {
          "output_type": "display_data",
          "data": {
            "text/plain": [
              "<Figure size 640x480 with 1 Axes>"
            ],
            "image/png": "[encoded data removed]"
          },
          "metadata": {}
        }
      ]
    },
    {
      "cell_type": "code",
      "source": [
        "#UNIFORM DISTRIBUTION - all values have equal probability to be selected"
      ],
      "metadata": {
        "id": "kwyVzoMOpf0C"
      },
      "execution_count": null,
      "outputs": []
    },
    {
      "cell_type": "code",
      "source": [
        "coordinates2 = np.random.rand(10000, 2)\n",
        "coordinates2\n",
        "\n",
        "x = coordinates2[:,0]#all the rows from first column\n",
        "\n",
        "y = coordinates2[:,1]#all the rows from second column\n",
        "plt.scatter(x, y, s=100)\n",
        "plt.title('100000 randomly selected coordinates - UNIFORM DISTRIBUTION')\n",
        "plt.xlabel('X')\n",
        "plt.ylabel('Y')\n",
        "plt.grid = True #nedarbojas"
      ],
      "metadata": {
        "colab": {
          "base_uri": "https://localhost:8080/",
          "height": 472
        },
        "id": "gLjTIYIkn8pn",
        "outputId": "f253506e-a075-43b5-8b44-b36c85e92b12"
      },
      "execution_count": 84,
      "outputs": [
        {
          "output_type": "display_data",
          "data": {
            "text/plain": [
              "<Figure size 640x480 with 1 Axes>"
            ],
            "image/png": "[encoded data removed]"
          },
          "metadata": {}
        }
      ]
    },
    {
      "cell_type": "code",
      "source": [
        "#NORMAL DISTRIBUTION - thi higest probability to be selected are for \"mean values\" - middle ones\n"
      ],
      "metadata": {
        "id": "HHAPzhkppjFC"
      },
      "execution_count": 85,
      "outputs": []
    },
    {
      "cell_type": "code",
      "source": [
        "coordinates3 = np.random.randn(10000, 2)\n",
        "coordinates3\n",
        "\n",
        "x = coordinates3[:,0]#all the rows from first column\n",
        "\n",
        "y = coordinates3[:,1]#all the rows from second column\n",
        "plt.scatter(x, y, s=100, cmap = 'rainbow')\n",
        "plt.title('100000 randomly selected coordinates - NORMAL DISTRIBUTION')\n",
        "plt.xlabel('X')\n",
        "plt.ylabel('Y')\n",
        "plt.grid = True #nedarbojas"
      ],
      "metadata": {
        "colab": {
          "base_uri": "https://localhost:8080/",
          "height": 506
        },
        "id": "A8pXiPAdpl_f",
        "outputId": "c4a4839f-5955-4e2f-aa95-e0f17dda998d"
      },
      "execution_count": 93,
      "outputs": [
        {
          "output_type": "stream",
          "name": "stderr",
          "text": [
            "<ipython-input-93-1049a7ef2189>:7: UserWarning: No data for colormapping provided via 'c'. Parameters 'cmap' will be ignored\n",
            "  plt.scatter(x, y, s=100, cmap = 'rainbow')\n"
          ]
        },
        {
          "output_type": "display_data",
          "data": {
            "text/plain": [
              "<Figure size 640x480 with 1 Axes>"
            ],
            "image/png": "[encoded data removed]"
          },
          "metadata": {}
        }
      ]
    },
    {
      "cell_type": "code",
      "source": [
        "# random integer (not fload/daļskaitlis anymore)\n",
        "np.random.randint(1, 100) # start -1(inclusive), end 100 (NOT included)"
      ],
      "metadata": {
        "colab": {
          "base_uri": "https://localhost:8080/"
        },
        "id": "Bvh3yqujpYun",
        "outputId": "f447922b-500c-4603-ebc5-9862e9ce3187"
      },
      "execution_count": 90,
      "outputs": [
        {
          "output_type": "execute_result",
          "data": {
            "text/plain": [
              "74"
            ]
          },
          "metadata": {},
          "execution_count": 90
        }
      ]
    },
    {
      "cell_type": "code",
      "source": [
        "np.random.randint(1,10,10)#returns an array of 10 random numbers between 1 and 100, including 1 and excluding 100"
      ],
      "metadata": {
        "colab": {
          "base_uri": "https://localhost:8080/"
        },
        "id": "kJfzZ9LZrhKC",
        "outputId": "17727318-cf61-486a-8f42-17c62b1179f4"
      },
      "execution_count": 91,
      "outputs": [
        {
          "output_type": "execute_result",
          "data": {
            "text/plain": [
              "array([9, 1, 9, 8, 4, 2, 1, 7, 6, 1])"
            ]
          },
          "metadata": {},
          "execution_count": 91
        }
      ]
    },
    {
      "cell_type": "code",
      "source": [
        "my_values = np.random.randint(1,10,10)\n",
        "my_values"
      ],
      "metadata": {
        "colab": {
          "base_uri": "https://localhost:8080/"
        },
        "id": "CC1s-ShxsgHR",
        "outputId": "d72259f9-adef-47db-ea1f-0e9f17e6f75d"
      },
      "execution_count": 94,
      "outputs": [
        {
          "output_type": "execute_result",
          "data": {
            "text/plain": [
              "array([2, 6, 9, 8, 8, 9, 4, 1, 2, 6])"
            ]
          },
          "metadata": {},
          "execution_count": 94
        }
      ]
    },
    {
      "cell_type": "code",
      "source": [
        "# maths\n",
        "my_values.min()\n",
        "my_values.max()\n",
        "my_values.std()"
      ],
      "metadata": {
        "colab": {
          "base_uri": "https://localhost:8080/"
        },
        "id": "szaORwBQsqem",
        "outputId": "14995d99-2c0f-4dd9-dbf3-7fe9a4940ff3"
      },
      "execution_count": 96,
      "outputs": [
        {
          "output_type": "execute_result",
          "data": {
            "text/plain": [
              "2.9068883707497264"
            ]
          },
          "metadata": {},
          "execution_count": 96
        }
      ]
    },
    {
      "cell_type": "code",
      "source": [
        "#finding INDEX (not value) of different locations\n",
        "my_values.argmax()# index 2 in array [1,2,3,4,5,6..]is 1? (as starts with 0?)"
      ],
      "metadata": {
        "colab": {
          "base_uri": "https://localhost:8080/"
        },
        "id": "dRw1vjTSs2CR",
        "outputId": "86988eb7-3a02-4a42-b55c-16a1b649cf44"
      },
      "execution_count": 97,
      "outputs": [
        {
          "output_type": "execute_result",
          "data": {
            "text/plain": [
              "2"
            ]
          },
          "metadata": {},
          "execution_count": 97
        }
      ]
    }
  ]
}