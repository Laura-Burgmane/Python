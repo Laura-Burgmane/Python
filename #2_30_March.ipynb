{
  "nbformat": 4,
  "nbformat_minor": 0,
  "metadata": {
    "colab": {
      "provenance": [],
      "authorship_tag": "ABX9TyPf/VLPcroXL76KzxFwVqFA",
      "include_colab_link": true
    },
    "kernelspec": {
      "name": "python3",
      "display_name": "Python 3"
    },
    "language_info": {
      "name": "python"
    }
  },
  "cells": [
    {
      "cell_type": "markdown",
      "metadata": {
        "id": "view-in-github",
        "colab_type": "text"
      },
      "source": [
        "<a href=\"https://colab.research.google.com/github/Laura-Burgmane/Python/blob/main/%232_30_March.ipynb\" target=\"_parent\"><img src=\"https://colab.research.google.com/assets/colab-badge.svg\" alt=\"Open In Colab\"/></a>"
      ]
    },
    {
      "cell_type": "markdown",
      "source": [
        "Data types!"
      ],
      "metadata": {
        "id": "HGdAH_ZZaFzl"
      }
    },
    {
      "cell_type": "code",
      "source": [
        "#data types\n",
        "x = 14\n",
        "print(x)\n",
        "print(type(x))"
      ],
      "metadata": {
        "colab": {
          "base_uri": "https://localhost:8080/"
        },
        "id": "JyKXA3VQaM7H",
        "outputId": "ca40ad4f-2663-4df1-f873-15fd5d9759cd"
      },
      "execution_count": null,
      "outputs": [
        {
          "output_type": "stream",
          "name": "stdout",
          "text": [
            "14\n",
            "<class 'int'>\n"
          ]
        }
      ]
    },
    {
      "cell_type": "code",
      "source": [
        "#Floats\n",
        "nearly_pi = 3.14\n",
        "print(nearly_pi)\n",
        "print(type(nearly_pi))"
      ],
      "metadata": {
        "colab": {
          "base_uri": "https://localhost:8080/"
        },
        "id": "cBni7AsDbLY0",
        "outputId": "62f10725-4ff5-403d-c385-3722b5d6c7b1"
      },
      "execution_count": null,
      "outputs": [
        {
          "output_type": "stream",
          "name": "stdout",
          "text": [
            "3.14\n",
            "<class 'float'>\n"
          ]
        }
      ]
    },
    {
      "cell_type": "code",
      "source": [
        "nearly_pi1 = 22/7\n",
        "print(nearly_pi1)\n",
        "print(type(nearly_pi1))"
      ],
      "metadata": {
        "colab": {
          "base_uri": "https://localhost:8080/"
        },
        "id": "nSDSt9lGbxSO",
        "outputId": "fb0975bf-86fd-4778-9b99-ddc3a4f6c9e9"
      },
      "execution_count": null,
      "outputs": [
        {
          "output_type": "stream",
          "name": "stdout",
          "text": [
            "3.142857142857143\n",
            "<class 'float'>\n"
          ]
        }
      ]
    },
    {
      "cell_type": "code",
      "source": [
        "#rounding float\n",
        "rounded_nearly_pi1  = round(nearly_pi1, 4)\n",
        "print(rounded_nearly_pi1)\n",
        "print(type(rounded_nearly_pi1))"
      ],
      "metadata": {
        "colab": {
          "base_uri": "https://localhost:8080/"
        },
        "id": "EyXMWmrzc2uN",
        "outputId": "3bcec217-04b0-4321-d1ad-ea62aaba43d6"
      },
      "execution_count": null,
      "outputs": [
        {
          "output_type": "stream",
          "name": "stdout",
          "text": [
            "3.1429\n",
            "<class 'float'>\n"
          ]
        }
      ]
    },
    {
      "cell_type": "code",
      "source": [
        "rounded_nearly_pi1  = round(nearly_pi1)\n",
        "print(rounded_nearly_pi1)\n",
        "print(type(rounded_nearly_pi1))"
      ],
      "metadata": {
        "colab": {
          "base_uri": "https://localhost:8080/"
        },
        "id": "wMVSOw5Ce4IF",
        "outputId": "23f2ef04-d98e-410f-d73b-f74fe3fea75b"
      },
      "execution_count": null,
      "outputs": [
        {
          "output_type": "stream",
          "name": "stdout",
          "text": [
            "3\n",
            "<class 'int'>\n"
          ]
        }
      ]
    },
    {
      "cell_type": "code",
      "source": [
        "#boolean\n",
        "boolean1 = True\n",
        "print(boolean1)\n",
        "print(type(boolean1))"
      ],
      "metadata": {
        "colab": {
          "base_uri": "https://localhost:8080/"
        },
        "id": "qucepTB8fTLR",
        "outputId": "37fa64dc-3a9a-47fe-f1d9-292bb17f2c8a"
      },
      "execution_count": null,
      "outputs": [
        {
          "output_type": "stream",
          "name": "stdout",
          "text": [
            "True\n",
            "<class 'bool'>\n"
          ]
        }
      ]
    },
    {
      "cell_type": "code",
      "source": [
        "boolean2 = (1<2)\n",
        "print(boolean2)\n",
        "print(type(boolean2))"
      ],
      "metadata": {
        "colab": {
          "base_uri": "https://localhost:8080/"
        },
        "id": "BD27CWvlf9kW",
        "outputId": "c3f43514-cebe-456c-840c-d5668314441e"
      },
      "execution_count": null,
      "outputs": [
        {
          "output_type": "stream",
          "name": "stdout",
          "text": [
            "True\n",
            "<class 'bool'>\n"
          ]
        }
      ]
    },
    {
      "cell_type": "code",
      "source": [
        "boolean3 = (5<3)\n",
        "print(boolean3)\n",
        "print(type(boolean3))\n"
      ],
      "metadata": {
        "colab": {
          "base_uri": "https://localhost:8080/"
        },
        "id": "YSucqMNmgS75",
        "outputId": "ada576b0-d2c2-4b28-f20d-d8d22346cf05"
      },
      "execution_count": null,
      "outputs": [
        {
          "output_type": "stream",
          "name": "stdout",
          "text": [
            "False\n",
            "<class 'bool'>\n"
          ]
        }
      ]
    },
    {
      "cell_type": "code",
      "source": [
        "boolean4 = not boolean3\n",
        "print(boolean4)"
      ],
      "metadata": {
        "colab": {
          "base_uri": "https://localhost:8080/"
        },
        "id": "zTfBXUfVgfru",
        "outputId": "a8f94eb7-1cdc-401d-9e73-df551e3d7c07"
      },
      "execution_count": null,
      "outputs": [
        {
          "output_type": "stream",
          "name": "stdout",
          "text": [
            "True\n"
          ]
        }
      ]
    },
    {
      "cell_type": "code",
      "source": [
        "#True == 1\n",
        "#False == 0\n",
        "boolean5 = True + False + True + True\n",
        "print(boolean5)"
      ],
      "metadata": {
        "colab": {
          "base_uri": "https://localhost:8080/"
        },
        "id": "gdqsHZ3Fg0G1",
        "outputId": "818d36b7-e232-4429-a204-62673ece3797"
      },
      "execution_count": null,
      "outputs": [
        {
          "output_type": "stream",
          "name": "stdout",
          "text": [
            "3\n"
          ]
        }
      ]
    },
    {
      "cell_type": "code",
      "source": [
        "string1 = 'Hello'\n",
        "print(string1)\n",
        "type(string1)\n",
        "len(string1)"
      ],
      "metadata": {
        "colab": {
          "base_uri": "https://localhost:8080/"
        },
        "id": "Jv4PypqeiOJB",
        "outputId": "4478acaa-06c3-4702-b2a7-a70ba053727e"
      },
      "execution_count": null,
      "outputs": [
        {
          "output_type": "stream",
          "name": "stdout",
          "text": [
            "Hello\n"
          ]
        },
        {
          "output_type": "execute_result",
          "data": {
            "text/plain": [
              "5"
            ]
          },
          "metadata": {},
          "execution_count": 35
        }
      ]
    },
    {
      "cell_type": "code",
      "source": [
        "nearly_pi_string = '3.14'\n",
        "type(nearly_pi_string)\n"
      ],
      "metadata": {
        "colab": {
          "base_uri": "https://localhost:8080/"
        },
        "id": "cj3DtCSvjDUi",
        "outputId": "a937c54b-5cbf-45fa-bc74-1b702854356a"
      },
      "execution_count": null,
      "outputs": [
        {
          "output_type": "execute_result",
          "data": {
            "text/plain": [
              "str"
            ]
          },
          "metadata": {},
          "execution_count": 33
        }
      ]
    },
    {
      "cell_type": "code",
      "source": [
        "nearly_pi_converted = float(nearly_pi_string)\n",
        "type(nearly_pi_converted)"
      ],
      "metadata": {
        "colab": {
          "base_uri": "https://localhost:8080/"
        },
        "id": "Uay-4oStjO1i",
        "outputId": "3e61475a-c4ce-47b3-eb1e-4e531b5b9748"
      },
      "execution_count": null,
      "outputs": [
        {
          "output_type": "execute_result",
          "data": {
            "text/plain": [
              "float"
            ]
          },
          "metadata": {},
          "execution_count": 34
        }
      ]
    },
    {
      "cell_type": "code",
      "source": [
        "new_string = \"abc\" + \"def\"\n",
        "print(new_string)\n"
      ],
      "metadata": {
        "colab": {
          "base_uri": "https://localhost:8080/"
        },
        "id": "acfER6pkjzaw",
        "outputId": "ceb9d734-1350-4d51-9956-b69b1be9664e"
      },
      "execution_count": null,
      "outputs": [
        {
          "output_type": "stream",
          "name": "stdout",
          "text": [
            "abcdef\n"
          ]
        }
      ]
    },
    {
      "cell_type": "code",
      "source": [
        "#arithmetic calculations\n",
        "a = 5\n",
        "b = 3\n",
        "sum  = a + b\n",
        "print(f\"SUM: {sum}\")\n",
        "type(sum)"
      ],
      "metadata": {
        "colab": {
          "base_uri": "https://localhost:8080/"
        },
        "id": "sBYUQ_C2kXns",
        "outputId": "dc9eeff7-e36f-438f-946c-019c8b15e98f"
      },
      "execution_count": null,
      "outputs": [
        {
          "output_type": "stream",
          "name": "stdout",
          "text": [
            "SUM: 8\n"
          ]
        },
        {
          "output_type": "execute_result",
          "data": {
            "text/plain": [
              "int"
            ]
          },
          "metadata": {},
          "execution_count": 48
        }
      ]
    },
    {
      "cell_type": "code",
      "source": [
        "difference = a-b\n",
        "print(f\"difference: {difference}\")"
      ],
      "metadata": {
        "colab": {
          "base_uri": "https://localhost:8080/"
        },
        "id": "kPA8av6DmYKi",
        "outputId": "b0aa4165-8d94-4742-f5ea-57886f86f7cc"
      },
      "execution_count": null,
      "outputs": [
        {
          "output_type": "stream",
          "name": "stdout",
          "text": [
            "difference: 2\n"
          ]
        }
      ]
    },
    {
      "cell_type": "code",
      "source": [
        "multiplication = a*b\n",
        "print(f\"multiplication: {multiplication}\")"
      ],
      "metadata": {
        "colab": {
          "base_uri": "https://localhost:8080/"
        },
        "id": "CG9wRafxmmZe",
        "outputId": "e1ede7aa-37de-401b-bfcc-f9590c1624af"
      },
      "execution_count": null,
      "outputs": [
        {
          "output_type": "stream",
          "name": "stdout",
          "text": [
            "multiplication: 15\n"
          ]
        }
      ]
    },
    {
      "cell_type": "code",
      "source": [
        "division = a/b\n",
        "div"
      ],
      "metadata": {
        "id": "55MtRQwLnJsD"
      },
      "execution_count": null,
      "outputs": []
    },
    {
      "cell_type": "code",
      "source": [
        "input1 = input(\"How old are you?: \")\n",
        "input2 = input(\"How old am I?: \")\n",
        "\n",
        "input1_int = int(input1)\n",
        "input2_int = int(input2)\n",
        "\n",
        "\n",
        "\n",
        "\n",
        "sum = input1_int + input2_int\n",
        "print(sum)\n",
        "type(input1)"
      ],
      "metadata": {
        "colab": {
          "base_uri": "https://localhost:8080/"
        },
        "id": "ndgFYWIHnSO8",
        "outputId": "f0b8b4ec-9df2-45c2-b26c-96dd44e7011d"
      },
      "execution_count": null,
      "outputs": [
        {
          "output_type": "stream",
          "name": "stdout",
          "text": [
            "How old are you?: 18\n",
            "How old am I?: 10\n",
            "28\n"
          ]
        },
        {
          "output_type": "execute_result",
          "data": {
            "text/plain": [
              "str"
            ]
          },
          "metadata": {},
          "execution_count": 55
        }
      ]
    },
    {
      "cell_type": "code",
      "source": [
        "#denisty of an area\n",
        "area = input(\"Enter area in sqm: \")\n",
        "population = input(\"Enter population: \")\n",
        "\n",
        "area_int = int(area)\n",
        "population_int = int(population)\n",
        "\n",
        "density = population_int / area_int\n",
        "\n",
        "print(f\"Average density: {density}\")"
      ],
      "metadata": {
        "colab": {
          "base_uri": "https://localhost:8080/"
        },
        "id": "Jz6avN5HrtEe",
        "outputId": "26b88093-1442-4744-a4bf-3acbfef9daf4"
      },
      "execution_count": null,
      "outputs": [
        {
          "output_type": "stream",
          "name": "stdout",
          "text": [
            "Enter area in sqm: 1000\n",
            "Enter population: 50\n",
            "Average density: 0.05\n"
          ]
        }
      ]
    },
    {
      "cell_type": "code",
      "source": [
        "#convert pounds to kg\n",
        "pound = 0.453592\n",
        "\n",
        "CONVERSION_FACTOR = 0.453592\n",
        "pounds = input(\"Enter the weight in ponds: \")\n",
        "pounds_float = float(pounds)\n",
        "kilograms = pounds_float * 0.453592\n",
        "kilograms = round(pounds_float * CONVERSION_FACTOR, 3)\n",
        "\n",
        "print(f\"Weight in pounds: {pounds} lb, weight in kilograms: {kilograms} \")"
      ],
      "metadata": {
        "colab": {
          "base_uri": "https://localhost:8080/"
        },
        "id": "O1R3X1N6vQGJ",
        "outputId": "e0584ff2-5ebe-4ff3-e119-14da675895d2"
      },
      "execution_count": null,
      "outputs": [
        {
          "output_type": "stream",
          "name": "stdout",
          "text": [
            "Enter the weight in ponds: 9\n",
            "Weight in pounds: 9 lb, weight in kilograms: 4.082 \n"
          ]
        }
      ]
    }
  ]
}