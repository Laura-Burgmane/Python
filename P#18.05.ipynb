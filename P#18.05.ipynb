{
  "nbformat": 4,
  "nbformat_minor": 0,
  "metadata": {
    "colab": {
      "provenance": [],
      "authorship_tag": "ABX9TyOvL/sbdIDs+76eedchb7YZ",
      "include_colab_link": true
    },
    "kernelspec": {
      "name": "python3",
      "display_name": "Python 3"
    },
    "language_info": {
      "name": "python"
    }
  },
  "cells": [
    {
      "cell_type": "markdown",
      "metadata": {
        "id": "view-in-github",
        "colab_type": "text"
      },
      "source": [
        "<a href=\"https://colab.research.google.com/github/Laura-Burgmane/Python/blob/main/P%2318.05.ipynb\" target=\"_parent\"><img src=\"https://colab.research.google.com/assets/colab-badge.svg\" alt=\"Open In Colab\"/></a>"
      ]
    },
    {
      "cell_type": "markdown",
      "source": [
        "**Lesson 8 - Dictionaries and defining functions**\n",
        "\n",
        "What are tuples? -\n",
        "What are dictionary objects? -\n",
        "Selecting/indexing elements in a dictionary -\n",
        "Modifying, creating and removing elements in a dictionary -\n",
        "Defining and calling simple functions -\n",
        "Return statement in a function"
      ],
      "metadata": {
        "id": "59-uXqf7FXNd"
      }
    },
    {
      "cell_type": "code",
      "execution_count": null,
      "metadata": {
        "colab": {
          "base_uri": "https://localhost:8080/"
        },
        "id": "LOdci9SzhRkn",
        "outputId": "99ca32a1-3867-48a1-b52e-a22d89178034"
      },
      "outputs": [
        {
          "output_type": "stream",
          "name": "stdout",
          "text": [
            "(1, 2, 3)\n"
          ]
        }
      ],
      "source": [
        "my_dict = {} # to define dictionary\n",
        "my_list = [] # to define list\n",
        "my_tuple = () # to define tuple; tuple can not be modified/amended etc. (tuple is a sequence of elements separated by comma); ChatGPT: A tuple is an immutable, ordered collection of items. Tuples can hold a collection of items that can be of different types (e.g., integers, floats, strings, etc.). Once a tuple is created, its content cannot be changed (i.e., it is immutable).\n",
        "\n",
        "my_tuple = (1,2,3)\n",
        "print(my_tuple)\n"
      ]
    },
    {
      "cell_type": "code",
      "source": [
        "new_list = [1,2,3,4]\n",
        "print(new_list)\n",
        "\n",
        "#transform list to a new tuple\n",
        "new_tuple = tuple(new_list)\n",
        "print(new_tuple)"
      ],
      "metadata": {
        "colab": {
          "base_uri": "https://localhost:8080/"
        },
        "id": "GZawLr25hvCH",
        "outputId": "c6dc676c-1ef5-4399-b641-9958c39934c5"
      },
      "execution_count": null,
      "outputs": [
        {
          "output_type": "stream",
          "name": "stdout",
          "text": [
            "[1, 2, 3, 4]\n",
            "(1, 2, 3, 4)\n"
          ]
        }
      ]
    },
    {
      "cell_type": "code",
      "source": [
        "new_tuple[0:3]"
      ],
      "metadata": {
        "colab": {
          "base_uri": "https://localhost:8080/"
        },
        "id": "TWwbxNJSiK89",
        "outputId": "15057ee6-063c-4cdc-fa39-8777c99f095d"
      },
      "execution_count": null,
      "outputs": [
        {
          "output_type": "execute_result",
          "data": {
            "text/plain": [
              "(1, 2, 3)"
            ]
          },
          "metadata": {},
          "execution_count": 7
        }
      ]
    },
    {
      "cell_type": "code",
      "source": [
        "#common functions for tuples:\n",
        "len(new_tuple)\n",
        "min(new_tuple)\n",
        "max(new_tuple)\n",
        "sum(new_tuple)\n"
      ],
      "metadata": {
        "colab": {
          "base_uri": "https://localhost:8080/"
        },
        "id": "Pmy7RT8ejCAH",
        "outputId": "3e9c171f-e3e4-4252-dda5-fcdb62e16dbb"
      },
      "execution_count": null,
      "outputs": [
        {
          "output_type": "execute_result",
          "data": {
            "text/plain": [
              "10"
            ]
          },
          "metadata": {},
          "execution_count": 8
        }
      ]
    },
    {
      "cell_type": "code",
      "source": [
        "#DICTIONARY\n",
        "dictionary = {} #create an empty dic by calling CURLY BRACES\n",
        "another_dictionary = dict() #create an empty dic by calling a dictionary METHOD"
      ],
      "metadata": {
        "id": "uIR90y5Njscq"
      },
      "execution_count": null,
      "outputs": []
    },
    {
      "cell_type": "code",
      "source": [
        "dictionary = {}\n",
        "dictionary['key1'] = 'value1' #add an element to the dic #pēdiņas allows to get elements of any data type???\n",
        "#index is only a number; key can be any information, need to define it myself (like name, nationality, city affiliaton etc.)\n"
      ],
      "metadata": {
        "id": "U1ofqVwVmBpi"
      },
      "execution_count": null,
      "outputs": []
    },
    {
      "cell_type": "code",
      "source": [
        "dictionary['key2'] = 'value2'\n",
        "dictionary['key2'] #use the key to get to the element"
      ],
      "metadata": {
        "colab": {
          "base_uri": "https://localhost:8080/",
          "height": 37
        },
        "id": "J8jTmpBWnwRq",
        "outputId": "b4dd7f86-2124-4c85-900f-e8badf75f607"
      },
      "execution_count": null,
      "outputs": [
        {
          "output_type": "execute_result",
          "data": {
            "text/plain": [
              "'value2'"
            ],
            "application/vnd.google.colaboratory.intrinsic+json": {
              "type": "string"
            }
          },
          "metadata": {},
          "execution_count": 24
        }
      ]
    },
    {
      "cell_type": "code",
      "source": [
        "# store a list in the dictionary:\n",
        "dictionary['datorium_list'] = ['Python', 'Java', 'C#']\n",
        "print(dictionary)"
      ],
      "metadata": {
        "colab": {
          "base_uri": "https://localhost:8080/"
        },
        "id": "UKUbciQfpEig",
        "outputId": "7afea6fa-3510-44c7-af32-57c59e5ae2f9"
      },
      "execution_count": null,
      "outputs": [
        {
          "output_type": "stream",
          "name": "stdout",
          "text": [
            "{'key1': 'value1', 'datorium_list': ['Python', 'Java', 'C#']}\n"
          ]
        }
      ]
    },
    {
      "cell_type": "code",
      "source": [
        "dictionary['datorium_list'] = [1,2,3] #key stayed the same, values changed; can not have 2 different values with the same keys\n",
        "print(dictionary)"
      ],
      "metadata": {
        "colab": {
          "base_uri": "https://localhost:8080/"
        },
        "id": "nvb2ma5Yp5UF",
        "outputId": "4a6e80e2-575e-4d7b-cb57-07f3f6cdb166"
      },
      "execution_count": null,
      "outputs": [
        {
          "output_type": "stream",
          "name": "stdout",
          "text": [
            "{'key1': 'value1', 'datorium_list': [1, 2, 3]}\n"
          ]
        }
      ]
    },
    {
      "cell_type": "markdown",
      "source": [
        "PYTHON DICTIONARY METHODS:"
      ],
      "metadata": {
        "id": "k1ulldgLqn0u"
      }
    },
    {
      "cell_type": "code",
      "source": [
        "#Python dictionary methods:\n",
        "my_friends = {'Alise':30,'John':40,'Linda':28}\n"
      ],
      "metadata": {
        "id": "jQ5q5HsJqghL"
      },
      "execution_count": null,
      "outputs": []
    },
    {
      "cell_type": "code",
      "source": [
        "my_friends['Linda']"
      ],
      "metadata": {
        "colab": {
          "base_uri": "https://localhost:8080/"
        },
        "id": "I-0um2HNrHa1",
        "outputId": "65f80f45-4638-43cd-a0ec-700b80c2037d"
      },
      "execution_count": null,
      "outputs": [
        {
          "output_type": "execute_result",
          "data": {
            "text/plain": [
              "28"
            ]
          },
          "metadata": {},
          "execution_count": 37
        }
      ]
    },
    {
      "cell_type": "code",
      "source": [
        "#UPDATE() - ADD A NEW DICTIONARY TO AN EXISTING DICTIONARY:\n",
        "incoming_friends = {'Arta': 29}\n",
        "my_friends.update(incoming_friends)"
      ],
      "metadata": {
        "id": "wBHFEOmIrVhI"
      },
      "execution_count": null,
      "outputs": []
    },
    {
      "cell_type": "code",
      "source": [
        "#POP() - REMOVING AN ELEMENT FROM DIC:\n",
        "my_friends.pop('Alise')"
      ],
      "metadata": {
        "colab": {
          "base_uri": "https://localhost:8080/"
        },
        "id": "LfLPHNSLsV7c",
        "outputId": "5f161ad9-e288-47b1-f800-e088a266084a"
      },
      "execution_count": null,
      "outputs": [
        {
          "output_type": "execute_result",
          "data": {
            "text/plain": [
              "30"
            ]
          },
          "metadata": {},
          "execution_count": 40
        }
      ]
    },
    {
      "cell_type": "code",
      "source": [
        "print(my_friends)"
      ],
      "metadata": {
        "colab": {
          "base_uri": "https://localhost:8080/"
        },
        "id": "iLKPV4n2snw3",
        "outputId": "9579a9d0-de8b-4af3-e183-227e13dfcc64"
      },
      "execution_count": null,
      "outputs": [
        {
          "output_type": "stream",
          "name": "stdout",
          "text": [
            "{'John': 40, 'Linda': 28}\n"
          ]
        }
      ]
    },
    {
      "cell_type": "code",
      "source": [
        "#GET() -\n",
        "my_friends.get('Alise', 'This person is not in the dictionary.')"
      ],
      "metadata": {
        "colab": {
          "base_uri": "https://localhost:8080/",
          "height": 37
        },
        "id": "I5vjKAVIs8eh",
        "outputId": "e5ac4d6f-e935-4ee4-d9f2-af3a6c4bb79a"
      },
      "execution_count": null,
      "outputs": [
        {
          "output_type": "execute_result",
          "data": {
            "text/plain": [
              "'This person is not in the dictionary.'"
            ],
            "application/vnd.google.colaboratory.intrinsic+json": {
              "type": "string"
            }
          },
          "metadata": {},
          "execution_count": 42
        }
      ]
    },
    {
      "cell_type": "code",
      "source": [
        "#GET() - to specify a fallback value when item is not in the dic (resp., ja neatrod vārdnīcā, tad izmet iemeslu, nevis tukšumu)\n",
        "my_friends.get('Linda', 'This person is not in the dictionary.')"
      ],
      "metadata": {
        "colab": {
          "base_uri": "https://localhost:8080/"
        },
        "id": "qXkVleXBtoMp",
        "outputId": "89a70d2c-6430-4129-fb3b-47206e5d607e"
      },
      "execution_count": null,
      "outputs": [
        {
          "output_type": "execute_result",
          "data": {
            "text/plain": [
              "28"
            ]
          },
          "metadata": {},
          "execution_count": 48
        }
      ]
    },
    {
      "cell_type": "code",
      "source": [
        "# ITEMS(), KEYS(), VALUES() USED TO ITERATE DICTIONARIES:\n",
        "#items() - return all the objects in the dic: (returns tuples)\n",
        "my_friends.items()"
      ],
      "metadata": {
        "colab": {
          "base_uri": "https://localhost:8080/"
        },
        "id": "4fuwxH6KtrX9",
        "outputId": "09c2c6da-02e9-4e1b-c46c-a0cf1139088a"
      },
      "execution_count": null,
      "outputs": [
        {
          "output_type": "execute_result",
          "data": {
            "text/plain": [
              "dict_items([('John', 40), ('Linda', 28), ('Arta', 29)])"
            ]
          },
          "metadata": {},
          "execution_count": 44
        }
      ]
    },
    {
      "cell_type": "code",
      "source": [
        "#keys() - returns all the keys:\n",
        "my_friends.keys()"
      ],
      "metadata": {
        "colab": {
          "base_uri": "https://localhost:8080/"
        },
        "id": "yWriOtJuuGXQ",
        "outputId": "d992c334-971d-4cbb-9a0a-bd6750a300db"
      },
      "execution_count": null,
      "outputs": [
        {
          "output_type": "execute_result",
          "data": {
            "text/plain": [
              "dict_keys(['John', 'Linda', 'Arta'])"
            ]
          },
          "metadata": {},
          "execution_count": 49
        }
      ]
    },
    {
      "cell_type": "code",
      "source": [
        "#values() - returns only values:\n",
        "my_friends.values()"
      ],
      "metadata": {
        "colab": {
          "base_uri": "https://localhost:8080/"
        },
        "id": "EvMmRiiUuNob",
        "outputId": "1529b54c-75c2-4f7d-f817-e42d3f998a10"
      },
      "execution_count": null,
      "outputs": [
        {
          "output_type": "execute_result",
          "data": {
            "text/plain": [
              "dict_values([40, 28, 29])"
            ]
          },
          "metadata": {},
          "execution_count": 50
        }
      ]
    },
    {
      "cell_type": "code",
      "source": [
        "#keys can be integers (numbers):\n",
        "integer_key = {123: 'name'}\n",
        "print(integer_key)"
      ],
      "metadata": {
        "colab": {
          "base_uri": "https://localhost:8080/"
        },
        "id": "XnoaywRwsFXI",
        "outputId": "f7125080-2522-431b-953e-179121c30bbd"
      },
      "execution_count": null,
      "outputs": [
        {
          "output_type": "stream",
          "name": "stdout",
          "text": [
            "{123: 'name'}\n"
          ]
        }
      ]
    },
    {
      "cell_type": "markdown",
      "source": [
        "CONTACT BOOK:"
      ],
      "metadata": {
        "id": "2wDw9cEOyAVy"
      }
    },
    {
      "cell_type": "code",
      "source": [
        "#contact name - key, contact telephone - value\n",
        "\n",
        "contact_book = {} #initate empty contact book\n",
        "name = input('Enter contact name: ')\n",
        "number = input('Enter contact telephone number: ')\n",
        "contact_book[name] = number #adding element to the dict\n",
        "print(f'Contact {name} added successfully with the provided number {number}!')"
      ],
      "metadata": {
        "colab": {
          "base_uri": "https://localhost:8080/"
        },
        "id": "ce8NDIwCx_oC",
        "outputId": "11d5da99-e2c8-4350-a3ab-9557047ddf7f"
      },
      "execution_count": null,
      "outputs": [
        {
          "output_type": "stream",
          "name": "stdout",
          "text": [
            "Enter contact name: Laura\n",
            "Enter contact telephone number: 07999788866\n",
            "Contact Laura added successfully with the provided number 07999788866!\n"
          ]
        }
      ]
    },
    {
      "cell_type": "code",
      "source": [
        "# task for 3 mins: add this code to run until user writes STOP ## bingo, cracked this code after the lesson myself by trying!!\n",
        "\n",
        "contact_book = {} #dont initate an empty dic if adding values to an existing contact book\n",
        "\n",
        "while True:\n",
        "    print('When you have added all the names and want to quit, type \"stop\"; until then keep adding entries:')\n",
        "    name = input('Enter the name: ')\n",
        "    if name == 'stop':\n",
        "        print('Thanks, your contact book is complete now.')\n",
        "        break\n",
        "    number = input('Enter phone number: ')\n",
        "    contact_book[name] = number\n",
        "    print(f'Contact {name} added successfully.')\n",
        "\n",
        "\n",
        "print(f'This is how your contact book looks now: {contact_book}:')\n"
      ],
      "metadata": {
        "colab": {
          "base_uri": "https://localhost:8080/"
        },
        "id": "ccCNuRqA0O_D",
        "outputId": "d71e32ba-7bb7-4df9-952d-ea0d0fdeacd5"
      },
      "execution_count": null,
      "outputs": [
        {
          "output_type": "stream",
          "name": "stdout",
          "text": [
            "When you have added all the names and want to quit, type \"stop\"; until then keep adding entries:\n",
            "Enter the name: Laura\n",
            "Enter phone number: 12345\n",
            "Contact Laura added successfully.\n",
            "When you have added all the names and want to quit, type \"stop\"; until then keep adding entries:\n",
            "Enter the name: Anna\n",
            "Enter phone number: 76543\n",
            "Contact Anna added successfully.\n",
            "When you have added all the names and want to quit, type \"stop\"; until then keep adding entries:\n",
            "Enter the name: Peter\n",
            "Enter phone number: 577\n",
            "Contact Peter added successfully.\n",
            "When you have added all the names and want to quit, type \"stop\"; until then keep adding entries:\n",
            "Enter the name: stop\n",
            "Thanks, your contact book is complete now.\n",
            "This is how your contact book looks now: {'Laura': '12345', 'Anna': '76543', 'Peter': '577'}:\n"
          ]
        }
      ]
    },
    {
      "cell_type": "code",
      "source": [
        "stock_inventory = {} #initate an empty stock inventory\n",
        "beverage = input('Enter the type of beverage: ')\n",
        "amount_of_bottles = input('Enter amount of bottles of this beverage: ')\n",
        "stock_inventory[beverage] = amount_of_bottles #adding element to the dict\n",
        "print(f'{amount_of_bottles} bootles of {beverage} are added to your inventory successfully.')"
      ],
      "metadata": {
        "colab": {
          "base_uri": "https://localhost:8080/"
        },
        "id": "iIW_2WXI18rM",
        "outputId": "57a9be7d-5874-423f-a9ac-33e4e0c3ebe0"
      },
      "execution_count": null,
      "outputs": [
        {
          "output_type": "stream",
          "name": "stdout",
          "text": [
            "Enter the type of beverage: beer\n",
            "Enter amount of bottles of this beverage: 2\n",
            "2 bootles of beer are added to your inventory successfully.\n"
          ]
        }
      ]
    },
    {
      "cell_type": "code",
      "source": [
        "# the same task with while loop, break/exit and other features: ## bingo, cracked the code after the lesson by trying!!\n",
        "\n",
        "stock_inventory = {} #initate an empty stock inventory\n",
        "\n",
        "while True:\n",
        "  print('When you have listed all your stock, type \"stop\"; until then keep adding items:')\n",
        "\n",
        "  beverage = input('Enter the type of beverage: ')\n",
        "  if beverage == 'stop':\n",
        "    print('Thanks, good job! Looks like you are well stocked!')\n",
        "    break\n",
        "\n",
        "  amount_of_bottles = input('Enter the amount of bottles of this beverage: ')\n",
        "  stock_inventory[beverage] = amount_of_bottles #adding element to the dict\n",
        "\n",
        "print(f'You are well equiped with these drinks: {stock_inventory}.')\n"
      ],
      "metadata": {
        "colab": {
          "base_uri": "https://localhost:8080/"
        },
        "id": "eyQklz_F3jSB",
        "outputId": "bdef8370-d725-4d10-87c2-a72d2dedf1d0"
      },
      "execution_count": null,
      "outputs": [
        {
          "output_type": "stream",
          "name": "stdout",
          "text": [
            "When you have listed all your stock, type \"stop\"; until then keep adding items:\n",
            "Enter the type of beverage: beer\n",
            "Enter the amount of bottles of this beverage: 2\n",
            "When you have listed all your stock, type \"stop\"; until then keep adding items:\n",
            "Enter the type of beverage: juice\n",
            "Enter the amount of bottles of this beverage: 5\n",
            "When you have listed all your stock, type \"stop\"; until then keep adding items:\n",
            "Enter the type of beverage: vine\n",
            "Enter the amount of bottles of this beverage: 30\n",
            "When you have listed all your stock, type \"stop\"; until then keep adding items:\n",
            "Enter the type of beverage: stop\n",
            "Thanks, good job! Looks like you are well stocked!\n",
            "You are well equiped with these drinks: {'beer': '2', 'juice': '5', 'vine': '30'}.\n"
          ]
        }
      ]
    },
    {
      "cell_type": "markdown",
      "source": [
        "FUNCTIONS:"
      ],
      "metadata": {
        "id": "Larj8Rk95bq8"
      }
    },
    {
      "cell_type": "code",
      "source": [
        "inventory = {}\n"
      ],
      "metadata": {
        "id": "d_aVvMpY59gJ"
      },
      "execution_count": null,
      "outputs": []
    },
    {
      "cell_type": "code",
      "source": [
        "#adding item to a dic, this function does not do anything, it is just defined, it needs to be called to perform it\n",
        "def add_item(inventory):\n",
        "  store_item = input(\"Enter the item name: \")\n",
        "  item_quantity = input(\"Enter the quantity for the item: \")\n",
        "  inventory[store_item] = item_quantity\n",
        "  print(f\"Item {store_item} quantity updated!\")"
      ],
      "metadata": {
        "id": "adYDkVpJ5g8f"
      },
      "execution_count": null,
      "outputs": []
    },
    {
      "cell_type": "code",
      "source": [
        "while True:\n",
        "  exit = input('If you want to exit write STOP, else nothing')\n",
        "  if exit == 'STOP':\n",
        "    print(\"You've stopped entries for today. See you next time!\")\n",
        "    break\n",
        "  add_item(inventory)\n"
      ],
      "metadata": {
        "colab": {
          "base_uri": "https://localhost:8080/",
          "height": 350
        },
        "id": "yKOE8DMg5K3Z",
        "outputId": "b353c291-f563-4ce9-b191-ecee65626ece"
      },
      "execution_count": null,
      "outputs": [
        {
          "output_type": "error",
          "ename": "KeyboardInterrupt",
          "evalue": "Interrupted by user",
          "traceback": [
            "\u001b[0;31m---------------------------------------------------------------------------\u001b[0m",
            "\u001b[0;31mKeyboardInterrupt\u001b[0m                         Traceback (most recent call last)",
            "\u001b[0;32m<ipython-input-70-031a35b4ccce>\u001b[0m in \u001b[0;36m<cell line: 1>\u001b[0;34m()\u001b[0m\n\u001b[1;32m      1\u001b[0m \u001b[0;32mwhile\u001b[0m \u001b[0;32mTrue\u001b[0m\u001b[0;34m:\u001b[0m\u001b[0;34m\u001b[0m\u001b[0;34m\u001b[0m\u001b[0m\n\u001b[0;32m----> 2\u001b[0;31m   \u001b[0mexit\u001b[0m \u001b[0;34m=\u001b[0m \u001b[0minput\u001b[0m\u001b[0;34m(\u001b[0m\u001b[0;34m'If you want to exit write STOP, else nothing'\u001b[0m\u001b[0;34m)\u001b[0m\u001b[0;34m\u001b[0m\u001b[0;34m\u001b[0m\u001b[0m\n\u001b[0m\u001b[1;32m      3\u001b[0m   \u001b[0;32mif\u001b[0m \u001b[0mexit\u001b[0m \u001b[0;34m==\u001b[0m \u001b[0;34m'STOP'\u001b[0m\u001b[0;34m:\u001b[0m\u001b[0;34m\u001b[0m\u001b[0;34m\u001b[0m\u001b[0m\n\u001b[1;32m      4\u001b[0m     \u001b[0mprint\u001b[0m\u001b[0;34m(\u001b[0m\u001b[0;34m\"You've stopped entries for today. See you next time!\"\u001b[0m\u001b[0;34m)\u001b[0m\u001b[0;34m\u001b[0m\u001b[0;34m\u001b[0m\u001b[0m\n\u001b[1;32m      5\u001b[0m     \u001b[0;32mbreak\u001b[0m\u001b[0;34m\u001b[0m\u001b[0;34m\u001b[0m\u001b[0m\n",
            "\u001b[0;32m/usr/local/lib/python3.10/dist-packages/ipykernel/kernelbase.py\u001b[0m in \u001b[0;36mraw_input\u001b[0;34m(self, prompt)\u001b[0m\n\u001b[1;32m    849\u001b[0m                 \u001b[0;34m\"raw_input was called, but this frontend does not support input requests.\"\u001b[0m\u001b[0;34m\u001b[0m\u001b[0;34m\u001b[0m\u001b[0m\n\u001b[1;32m    850\u001b[0m             )\n\u001b[0;32m--> 851\u001b[0;31m         return self._input_request(str(prompt),\n\u001b[0m\u001b[1;32m    852\u001b[0m             \u001b[0mself\u001b[0m\u001b[0;34m.\u001b[0m\u001b[0m_parent_ident\u001b[0m\u001b[0;34m,\u001b[0m\u001b[0;34m\u001b[0m\u001b[0;34m\u001b[0m\u001b[0m\n\u001b[1;32m    853\u001b[0m             \u001b[0mself\u001b[0m\u001b[0;34m.\u001b[0m\u001b[0m_parent_header\u001b[0m\u001b[0;34m,\u001b[0m\u001b[0;34m\u001b[0m\u001b[0;34m\u001b[0m\u001b[0m\n",
            "\u001b[0;32m/usr/local/lib/python3.10/dist-packages/ipykernel/kernelbase.py\u001b[0m in \u001b[0;36m_input_request\u001b[0;34m(self, prompt, ident, parent, password)\u001b[0m\n\u001b[1;32m    893\u001b[0m             \u001b[0;32mexcept\u001b[0m \u001b[0mKeyboardInterrupt\u001b[0m\u001b[0;34m:\u001b[0m\u001b[0;34m\u001b[0m\u001b[0;34m\u001b[0m\u001b[0m\n\u001b[1;32m    894\u001b[0m                 \u001b[0;31m# re-raise KeyboardInterrupt, to truncate traceback\u001b[0m\u001b[0;34m\u001b[0m\u001b[0;34m\u001b[0m\u001b[0m\n\u001b[0;32m--> 895\u001b[0;31m                 \u001b[0;32mraise\u001b[0m \u001b[0mKeyboardInterrupt\u001b[0m\u001b[0;34m(\u001b[0m\u001b[0;34m\"Interrupted by user\"\u001b[0m\u001b[0;34m)\u001b[0m \u001b[0;32mfrom\u001b[0m \u001b[0;32mNone\u001b[0m\u001b[0;34m\u001b[0m\u001b[0;34m\u001b[0m\u001b[0m\n\u001b[0m\u001b[1;32m    896\u001b[0m             \u001b[0;32mexcept\u001b[0m \u001b[0mException\u001b[0m \u001b[0;32mas\u001b[0m \u001b[0me\u001b[0m\u001b[0;34m:\u001b[0m\u001b[0;34m\u001b[0m\u001b[0;34m\u001b[0m\u001b[0m\n\u001b[1;32m    897\u001b[0m                 \u001b[0mself\u001b[0m\u001b[0;34m.\u001b[0m\u001b[0mlog\u001b[0m\u001b[0;34m.\u001b[0m\u001b[0mwarning\u001b[0m\u001b[0;34m(\u001b[0m\u001b[0;34m\"Invalid Message:\"\u001b[0m\u001b[0;34m,\u001b[0m \u001b[0mexc_info\u001b[0m\u001b[0;34m=\u001b[0m\u001b[0;32mTrue\u001b[0m\u001b[0;34m)\u001b[0m\u001b[0;34m\u001b[0m\u001b[0;34m\u001b[0m\u001b[0m\n",
            "\u001b[0;31mKeyboardInterrupt\u001b[0m: Interrupted by user"
          ]
        }
      ]
    },
    {
      "cell_type": "code",
      "source": [
        "#somebody's lame code that apparenty works:\n",
        "\n",
        "inventory = {}\n",
        "def add_item(inventory):\n",
        "  store_item = input(\"Enter the item name: \")\n",
        "  item_quantity = input(\"Enter the quantity for the item: \")\n",
        "  inventory[store_item] = item_quantity\n",
        "  print(f\"Item {store_item} quantity updated!\")\n",
        "while True:\n",
        "  exit = input('If you want to exit write STOP, else nothing')\n",
        "  if exit == 'STOP':\n",
        "    print(\"You've stopped entries for today. See you next time!\")\n",
        "    break\n",
        "  add_item(inventory)"
      ],
      "metadata": {
        "colab": {
          "base_uri": "https://localhost:8080/",
          "height": 418
        },
        "id": "xuNklQ6m6jx_",
        "outputId": "47c85c06-52f5-4f84-88e5-0276769bf60e"
      },
      "execution_count": null,
      "outputs": [
        {
          "output_type": "stream",
          "name": "stdout",
          "text": [
            "If you want to exit write STOP, else nothingapple\n",
            "Enter the item name: banana\n",
            "Enter the quantity for the item: STOP\n",
            "Item banana quantity updated!\n"
          ]
        },
        {
          "output_type": "error",
          "ename": "KeyboardInterrupt",
          "evalue": "Interrupted by user",
          "traceback": [
            "\u001b[0;31m---------------------------------------------------------------------------\u001b[0m",
            "\u001b[0;31mKeyboardInterrupt\u001b[0m                         Traceback (most recent call last)",
            "\u001b[0;32m<ipython-input-72-1a418489b1c6>\u001b[0m in \u001b[0;36m<cell line: 7>\u001b[0;34m()\u001b[0m\n\u001b[1;32m      6\u001b[0m   \u001b[0mprint\u001b[0m\u001b[0;34m(\u001b[0m\u001b[0;34mf\"Item {store_item} quantity updated!\"\u001b[0m\u001b[0;34m)\u001b[0m\u001b[0;34m\u001b[0m\u001b[0;34m\u001b[0m\u001b[0m\n\u001b[1;32m      7\u001b[0m \u001b[0;32mwhile\u001b[0m \u001b[0;32mTrue\u001b[0m\u001b[0;34m:\u001b[0m\u001b[0;34m\u001b[0m\u001b[0;34m\u001b[0m\u001b[0m\n\u001b[0;32m----> 8\u001b[0;31m   \u001b[0mexit\u001b[0m \u001b[0;34m=\u001b[0m \u001b[0minput\u001b[0m\u001b[0;34m(\u001b[0m\u001b[0;34m'If you want to exit write STOP, else nothing'\u001b[0m\u001b[0;34m)\u001b[0m\u001b[0;34m\u001b[0m\u001b[0;34m\u001b[0m\u001b[0m\n\u001b[0m\u001b[1;32m      9\u001b[0m   \u001b[0;32mif\u001b[0m \u001b[0mexit\u001b[0m \u001b[0;34m==\u001b[0m \u001b[0;34m'STOP'\u001b[0m\u001b[0;34m:\u001b[0m\u001b[0;34m\u001b[0m\u001b[0;34m\u001b[0m\u001b[0m\n\u001b[1;32m     10\u001b[0m     \u001b[0mprint\u001b[0m\u001b[0;34m(\u001b[0m\u001b[0;34m\"You've stopped entries for today. See you next time!\"\u001b[0m\u001b[0;34m)\u001b[0m\u001b[0;34m\u001b[0m\u001b[0;34m\u001b[0m\u001b[0m\n",
            "\u001b[0;32m/usr/local/lib/python3.10/dist-packages/ipykernel/kernelbase.py\u001b[0m in \u001b[0;36mraw_input\u001b[0;34m(self, prompt)\u001b[0m\n\u001b[1;32m    849\u001b[0m                 \u001b[0;34m\"raw_input was called, but this frontend does not support input requests.\"\u001b[0m\u001b[0;34m\u001b[0m\u001b[0;34m\u001b[0m\u001b[0m\n\u001b[1;32m    850\u001b[0m             )\n\u001b[0;32m--> 851\u001b[0;31m         return self._input_request(str(prompt),\n\u001b[0m\u001b[1;32m    852\u001b[0m             \u001b[0mself\u001b[0m\u001b[0;34m.\u001b[0m\u001b[0m_parent_ident\u001b[0m\u001b[0;34m,\u001b[0m\u001b[0;34m\u001b[0m\u001b[0;34m\u001b[0m\u001b[0m\n\u001b[1;32m    853\u001b[0m             \u001b[0mself\u001b[0m\u001b[0;34m.\u001b[0m\u001b[0m_parent_header\u001b[0m\u001b[0;34m,\u001b[0m\u001b[0;34m\u001b[0m\u001b[0;34m\u001b[0m\u001b[0m\n",
            "\u001b[0;32m/usr/local/lib/python3.10/dist-packages/ipykernel/kernelbase.py\u001b[0m in \u001b[0;36m_input_request\u001b[0;34m(self, prompt, ident, parent, password)\u001b[0m\n\u001b[1;32m    893\u001b[0m             \u001b[0;32mexcept\u001b[0m \u001b[0mKeyboardInterrupt\u001b[0m\u001b[0;34m:\u001b[0m\u001b[0;34m\u001b[0m\u001b[0;34m\u001b[0m\u001b[0m\n\u001b[1;32m    894\u001b[0m                 \u001b[0;31m# re-raise KeyboardInterrupt, to truncate traceback\u001b[0m\u001b[0;34m\u001b[0m\u001b[0;34m\u001b[0m\u001b[0m\n\u001b[0;32m--> 895\u001b[0;31m                 \u001b[0;32mraise\u001b[0m \u001b[0mKeyboardInterrupt\u001b[0m\u001b[0;34m(\u001b[0m\u001b[0;34m\"Interrupted by user\"\u001b[0m\u001b[0;34m)\u001b[0m \u001b[0;32mfrom\u001b[0m \u001b[0;32mNone\u001b[0m\u001b[0;34m\u001b[0m\u001b[0;34m\u001b[0m\u001b[0m\n\u001b[0m\u001b[1;32m    896\u001b[0m             \u001b[0;32mexcept\u001b[0m \u001b[0mException\u001b[0m \u001b[0;32mas\u001b[0m \u001b[0me\u001b[0m\u001b[0;34m:\u001b[0m\u001b[0;34m\u001b[0m\u001b[0;34m\u001b[0m\u001b[0m\n\u001b[1;32m    897\u001b[0m                 \u001b[0mself\u001b[0m\u001b[0;34m.\u001b[0m\u001b[0mlog\u001b[0m\u001b[0;34m.\u001b[0m\u001b[0mwarning\u001b[0m\u001b[0;34m(\u001b[0m\u001b[0;34m\"Invalid Message:\"\u001b[0m\u001b[0;34m,\u001b[0m \u001b[0mexc_info\u001b[0m\u001b[0;34m=\u001b[0m\u001b[0;32mTrue\u001b[0m\u001b[0;34m)\u001b[0m\u001b[0;34m\u001b[0m\u001b[0;34m\u001b[0m\u001b[0m\n",
            "\u001b[0;31mKeyboardInterrupt\u001b[0m: Interrupted by user"
          ]
        }
      ]
    },
    {
      "cell_type": "code",
      "source": [],
      "metadata": {
        "id": "BBxKpUIM5Xmy"
      },
      "execution_count": null,
      "outputs": []
    }
  ]
}