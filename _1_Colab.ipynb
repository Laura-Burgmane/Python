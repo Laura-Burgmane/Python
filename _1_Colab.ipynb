{
  "nbformat": 4,
  "nbformat_minor": 0,
  "metadata": {
    "colab": {
      "provenance": [],
      "authorship_tag": "ABX9TyMU8lcpFXca8ZV0gNoaCa+1",
      "include_colab_link": true
    },
    "kernelspec": {
      "name": "python3",
      "display_name": "Python 3"
    },
    "language_info": {
      "name": "python"
    }
  },
  "cells": [
    {
      "cell_type": "markdown",
      "metadata": {
        "id": "view-in-github",
        "colab_type": "text"
      },
      "source": [
        "<a href=\"https://colab.research.google.com/github/Laura-Burgmane/Python/blob/main/_1_Colab.ipynb\" target=\"_parent\"><img src=\"https://colab.research.google.com/assets/colab-badge.svg\" alt=\"Open In Colab\"/></a>"
      ]
    },
    {
      "cell_type": "code",
      "execution_count": null,
      "metadata": {
        "colab": {
          "base_uri": "https://localhost:8080/"
        },
        "id": "xFNCyxuyn7od",
        "outputId": "0455da9f-236e-4c5e-c054-a66fa87041e3"
      },
      "outputs": [
        {
          "output_type": "stream",
          "name": "stdout",
          "text": [
            "100\n"
          ]
        }
      ],
      "source": [
        "test_2 = 100\n",
        "print(test_2)"
      ]
    },
    {
      "cell_type": "code",
      "source": [
        "name = \"trees \"*10\n",
        "print(name, end=\".\")"
      ],
      "metadata": {
        "colab": {
          "base_uri": "https://localhost:8080/"
        },
        "id": "OP8eVXP9oH4p",
        "outputId": "272b1fe7-1062-4904-9a43-8cff21db17c4"
      },
      "execution_count": null,
      "outputs": [
        {
          "output_type": "stream",
          "name": "stdout",
          "text": [
            "trees trees trees trees trees trees trees trees trees trees ."
          ]
        }
      ]
    },
    {
      "cell_type": "code",
      "source": [
        "name = input(\"enter your name: \")\n",
        "print(name)\n",
        "print(f\"hello {name}, nice to meet you!\")#this is f-string\n",
        "print(\"Hello \", name, \"nice to meet you! \") #this is not an f-string"
      ],
      "metadata": {
        "id": "x2BCsAoPpsxg",
        "colab": {
          "base_uri": "https://localhost:8080/"
        },
        "outputId": "8215c9c0-6c3a-4442-c73b-e7a25cda4967"
      },
      "execution_count": null,
      "outputs": [
        {
          "output_type": "stream",
          "name": "stdout",
          "text": [
            "enter your name: Laura\n",
            "Laura\n",
            "hello Laura, nice to meet you!\n",
            "Hello  Laura nice to meet you! \n"
          ]
        }
      ]
    },
    {
      "cell_type": "code",
      "source": [
        "print(f\"hello {name}, I would like to read the book \"Hamlet\" \")#this is f-string"
      ],
      "metadata": {
        "colab": {
          "base_uri": "https://localhost:8080/",
          "height": 105
        },
        "id": "qK58p5YTrmFq",
        "outputId": "9195e59d-45f1-45ac-c230-02403a42f75a"
      },
      "execution_count": null,
      "outputs": [
        {
          "output_type": "error",
          "ename": "SyntaxError",
          "evalue": "invalid syntax. Perhaps you forgot a comma? (<ipython-input-21-289d9122f925>, line 1)",
          "traceback": [
            "\u001b[0;36m  File \u001b[0;32m\"<ipython-input-21-289d9122f925>\"\u001b[0;36m, line \u001b[0;32m1\u001b[0m\n\u001b[0;31m    print(f\"hello {name}, I would like to read the book \"Hamlet\" \")#this is f-string\u001b[0m\n\u001b[0m          ^\u001b[0m\n\u001b[0;31mSyntaxError\u001b[0m\u001b[0;31m:\u001b[0m invalid syntax. Perhaps you forgot a comma?\n"
          ]
        }
      ]
    },
    {
      "cell_type": "code",
      "source": [
        "name = \"Maria\"\n",
        "surname = \"Jones\"\n",
        "print(f'hello {name}!')\n",
        "print(f'{name} wants to read \"Hamlet\".')"
      ],
      "metadata": {
        "colab": {
          "base_uri": "https://localhost:8080/"
        },
        "id": "smx0_1iLscE5",
        "outputId": "1eae0118-a306-4d65-afea-84e7de36b504"
      },
      "execution_count": null,
      "outputs": [
        {
          "output_type": "stream",
          "name": "stdout",
          "text": [
            "hello ('Maria', 'Jones')!\n",
            "Maria wants to read \"Hamlet\".\n"
          ]
        }
      ]
    }
  ]
}