{
  "nbformat": 4,
  "nbformat_minor": 0,
  "metadata": {
    "colab": {
      "provenance": [],
      "authorship_tag": "ABX9TyMTkXLBbpuuIzJ+AFHlSDbs",
      "include_colab_link": true
    },
    "kernelspec": {
      "name": "python3",
      "display_name": "Python 3"
    },
    "language_info": {
      "name": "python"
    }
  },
  "cells": [
    {
      "cell_type": "markdown",
      "metadata": {
        "id": "view-in-github",
        "colab_type": "text"
      },
      "source": [
        "<a href=\"https://colab.research.google.com/github/Laura-Burgmane/Python/blob/main/P%2320.04.ipynb\" target=\"_parent\"><img src=\"https://colab.research.google.com/assets/colab-badge.svg\" alt=\"Open In Colab\"/></a>"
      ]
    },
    {
      "cell_type": "markdown",
      "source": [
        "**Lesson 5 -  Loops in Python**\n",
        "\n",
        "List methods -\n",
        "For loops in Python -\n",
        "Iterating through lists"
      ],
      "metadata": {
        "id": "_dS1Na5ZDDd8"
      }
    },
    {
      "cell_type": "code",
      "execution_count": null,
      "metadata": {
        "id": "2oRgi9YXTrhT"
      },
      "outputs": [],
      "source": [
        "# list of objects\n",
        "fruits = [\"apple\", \"orange\", \"banana\", \"grape\", \"kivi\"]"
      ]
    },
    {
      "cell_type": "code",
      "source": [
        "# check if user input fruit is on the list with f-string:\n",
        "fruits = ['apple', 'orange', 'banana', 'grape', 'kiwi']\n",
        "\n",
        "user_input = input(\"Enter the fruit: \")\n",
        "if user_input in fruits:\n",
        "    print(f\"Yes, {user_input} is in our list of fruits!\")\n",
        "else:\n",
        "    print(f\"No, {user_input} is not in our list of fruits!\")"
      ],
      "metadata": {
        "colab": {
          "base_uri": "https://localhost:8080/"
        },
        "id": "zc7L4GI2YKns",
        "outputId": "fd6ecbd6-0175-4b98-b603-a2eb281c19ac"
      },
      "execution_count": null,
      "outputs": [
        {
          "output_type": "stream",
          "name": "stdout",
          "text": [
            "Enter the fruit: strawberry\n",
            "No, strawberry is not in our list of fruits!\n"
          ]
        }
      ]
    },
    {
      "cell_type": "code",
      "source": [
        "# check if user input fruit is on the list:\n",
        "fruits = [\"apple\", \"orange\", \"banana\", \"grape\", \"kiwi\"]\n",
        "favourite = input(\"What is your favourite fruit? \")\n",
        "if favourite in fruits:\n",
        "  print(\"Yes, we have it!\")\n",
        "else:\n",
        "  print(f\"No, {favourite} is not on our list.\")\n"
      ],
      "metadata": {
        "colab": {
          "base_uri": "https://localhost:8080/"
        },
        "id": "wETDwE2VZGpg",
        "outputId": "3f06d569-ff94-482c-ea80-7e0fbc7957c7"
      },
      "execution_count": null,
      "outputs": [
        {
          "output_type": "stream",
          "name": "stdout",
          "text": [
            "What is your favourite fruit? Maracuja\n",
            "No, Maracuja is not on our list.\n"
          ]
        }
      ]
    },
    {
      "cell_type": "code",
      "source": [
        "\n",
        "# mans mēģinājums:\n",
        "numbers = [1,2,3,4,5]\n",
        "user_input = input(\"Enter your number: \")\n",
        "if user_input in numbers:\n",
        "  print(f\"Yes, number {user_input} is on the list.\")\n",
        "  if user_input %2 == 0:\n",
        "    print(f\"Yes, your even number {user_input} is on the list.\")\n",
        "else:\n",
        "  print(f\"Your number {user_input} is not on the list...\")\n"
      ],
      "metadata": {
        "colab": {
          "base_uri": "https://localhost:8080/"
        },
        "id": "xXNd5-noZbwd",
        "outputId": "b50dcdbe-fedd-482f-f823-9ddb4273b6df"
      },
      "execution_count": null,
      "outputs": [
        {
          "output_type": "stream",
          "name": "stdout",
          "text": [
            "Enter your number: 7\n",
            "Your number 7 is not on the list...\n"
          ]
        }
      ]
    },
    {
      "cell_type": "markdown",
      "source": [
        "The user is prompted to enter a number using the input() function, and the input is converted to an integer using int(). We first check if the entered number is in the numbers list using an if statement. If the number is in the list, we further check if it's even or odd using another if-else statement nested inside the first one. Depending on the result, it prints a message indicating whether the number is even or odd and whether it's in the list or not."
      ],
      "metadata": {
        "id": "QW07iy5Fb9r0"
      }
    },
    {
      "cell_type": "code",
      "source": [
        "# pareizā atbilde - vai cipars ir listē, vai tas ir pāra, nested decisions:\n",
        "\n",
        "numbers = [1, 2, 3, 4, 5, 20, 55, 70]\n",
        "\n",
        "user_input_number = input(\"Enter a number: \")\n",
        "user_input_number = int(user_input_number)\n",
        "\n",
        "if user_input_number in numbers:\n",
        "  if user_input_number % 2 == 0:\n",
        "    print(\"This is an even number that is on the list\")\n",
        "  else:\n",
        "    print(\"This is an odd number that is on the list\")\n",
        "else:\n",
        "  print(\"This number is not on the list\")"
      ],
      "metadata": {
        "colab": {
          "base_uri": "https://localhost:8080/"
        },
        "id": "gxnyxE9eakPX",
        "outputId": "89274156-969d-4212-d556-4122afa1ad8f"
      },
      "execution_count": null,
      "outputs": [
        {
          "output_type": "stream",
          "name": "stdout",
          "text": [
            "Enter a number: 20\n",
            "This is an even number that is on the list\n"
          ]
        }
      ]
    },
    {
      "cell_type": "code",
      "source": [
        "# LIST METHODS\n",
        "# append method (pielikt beigās jaunu item)\n",
        "items = [\"apple\", \"kivi\", \"orange\"]\n",
        "print(f\"original items {items}\")\n",
        "\n",
        "my_value = \"banana\"\n",
        "items.append(my_value)\n",
        "print(f\"changed items {items}\")"
      ],
      "metadata": {
        "colab": {
          "base_uri": "https://localhost:8080/"
        },
        "id": "t95GHGNjbodI",
        "outputId": "07a23237-5611-4d46-c99e-858fb94abceb"
      },
      "execution_count": null,
      "outputs": [
        {
          "output_type": "stream",
          "name": "stdout",
          "text": [
            "original items ['apple', 'kivi', 'orange']\n",
            "changed items ['apple', 'kivi', 'orange', 'banana']\n"
          ]
        }
      ]
    },
    {
      "cell_type": "code",
      "source": [
        "#my_try:\n",
        "animals = ['dog', 'cat', 'camel']\n",
        "print(f'Initial list of animals is; {animals}')\n",
        "my_animal = 'fox'\n",
        "animals.append('fox')\n",
        "print(f'The full list of animals is: {animals}')"
      ],
      "metadata": {
        "colab": {
          "base_uri": "https://localhost:8080/"
        },
        "id": "11cisxwOGUkm",
        "outputId": "7da27189-342a-457f-cbae-63475fbf98fb"
      },
      "execution_count": null,
      "outputs": [
        {
          "output_type": "stream",
          "name": "stdout",
          "text": [
            "Initial list of animals is; ['dog', 'cat', 'camel']\n",
            "The full list of animals is: ['dog', 'cat', 'camel', 'fox']\n"
          ]
        }
      ]
    },
    {
      "cell_type": "code",
      "source": [
        "# copy method:\n",
        "original_list = [1,2,3,4,5]\n",
        "copied_list = original_list.copy()\n",
        "\n",
        "original_list.append(6)\n",
        "\n",
        "print(original_list)\n",
        "print(copied_list)"
      ],
      "metadata": {
        "colab": {
          "base_uri": "https://localhost:8080/"
        },
        "id": "Ccz_f6Ymc2JD",
        "outputId": "7b24fdc9-9353-4e5b-dc01-9255467812bd"
      },
      "execution_count": null,
      "outputs": [
        {
          "output_type": "stream",
          "name": "stdout",
          "text": [
            "[1, 2, 3, 4, 5, 6]\n",
            "[1, 2, 3, 4, 5]\n"
          ]
        }
      ]
    },
    {
      "cell_type": "code",
      "source": [
        "# count method: (labota drukas kļūda, tāpēc kods nestrādā atmiņas dēļ)\n",
        "\n",
        "number = [1, 2, 7, 6, 5, 5]\n",
        "\n",
        "target_numbers = 5 #how many times 5 is repeated in this list\n",
        "count = numbers.count(target_numbers)\n",
        "print(f\"The number {target_numbers} appears {count} times on the list.\")\n"
      ],
      "metadata": {
        "colab": {
          "base_uri": "https://localhost:8080/"
        },
        "id": "56OYXwi7d6Ey",
        "outputId": "9feec02c-05f1-46bf-923b-60ae4a980c85"
      },
      "execution_count": null,
      "outputs": [
        {
          "output_type": "stream",
          "name": "stdout",
          "text": [
            "The number 5 appears 1 times on the list.\n"
          ]
        }
      ]
    },
    {
      "cell_type": "code",
      "source": [
        "# index method: (kurā vietā listē atrodas konkrētais objekts (skaits sākas no nulles))\n",
        "fruits = [\"apple\", \"banana\", \"orange\"]\n",
        "fruits_index = fruits.index(\"banana\")\n",
        "print(f\"Index of banana is: {fruits_index}\")\n"
      ],
      "metadata": {
        "colab": {
          "base_uri": "https://localhost:8080/"
        },
        "id": "vvDqOFMdfrtV",
        "outputId": "9bb34726-2179-45fb-804b-16cd7f130a26"
      },
      "execution_count": null,
      "outputs": [
        {
          "output_type": "stream",
          "name": "stdout",
          "text": [
            "Index of banana is: 1\n"
          ]
        }
      ]
    },
    {
      "cell_type": "code",
      "source": [
        "# insert method:\n",
        "numbers = [1,2,3,4,5]\n",
        "\n",
        "numbers.insert(2, 10) #norāda indeksu (kasti, kur likt, sākas no nulles) un objektu, ko tur ielikt (skaitli 10)\n",
        "\n",
        "print(numbers)\n"
      ],
      "metadata": {
        "colab": {
          "base_uri": "https://localhost:8080/"
        },
        "id": "ptR36mergrVT",
        "outputId": "c916e453-20c1-491a-ea5d-70a35a2a0eba"
      },
      "execution_count": null,
      "outputs": [
        {
          "output_type": "stream",
          "name": "stdout",
          "text": [
            "[1, 2, 10, 3, 4, 5]\n"
          ]
        }
      ]
    },
    {
      "cell_type": "code",
      "source": [
        "# pop method: (aizvākšanas metodes, vai nu pop, vai arī remove)\n",
        "numbers.pop(2) #jānorāda indekss (kaste, kur glabājas), kurā esošo objektu aizvākt\n",
        "\n",
        "print(numbers)"
      ],
      "metadata": {
        "colab": {
          "base_uri": "https://localhost:8080/"
        },
        "id": "ALWMk4lshZes",
        "outputId": "bc8f44e7-2b02-4300-e883-e06ea4cfdf17"
      },
      "execution_count": null,
      "outputs": [
        {
          "output_type": "execute_result",
          "data": {
            "text/plain": [
              "10"
            ]
          },
          "metadata": {},
          "execution_count": 24
        }
      ]
    },
    {
      "cell_type": "code",
      "source": [
        "# sort ascending method: (kārtot augošā secībā)\n",
        "numbers = [6,9,10,3,5]\n",
        "numbers.sort()\n",
        "print(numbers)\n"
      ],
      "metadata": {
        "colab": {
          "base_uri": "https://localhost:8080/"
        },
        "id": "MsXVbd4jh0Pk",
        "outputId": "6cc62768-90df-47d6-d247-8c7a11adb036"
      },
      "execution_count": null,
      "outputs": [
        {
          "output_type": "stream",
          "name": "stdout",
          "text": [
            "[3, 5, 6, 9, 10]\n"
          ]
        }
      ]
    },
    {
      "cell_type": "code",
      "source": [
        "# sort descending method: (kārtot dilstošā secībā)\n",
        "numbers = [1,4,6,78,9,33,100,423]\n",
        "numbers.reverse()\n",
        "print(numbers)\n"
      ],
      "metadata": {
        "colab": {
          "base_uri": "https://localhost:8080/"
        },
        "id": "GpnBIw5hi3TP",
        "outputId": "2560491a-84dc-4caa-96ea-3e6eb075cd2b"
      },
      "execution_count": null,
      "outputs": [
        {
          "output_type": "stream",
          "name": "stdout",
          "text": [
            "[423, 100, 33, 9, 78, 6, 4, 1]\n"
          ]
        }
      ]
    },
    {
      "cell_type": "code",
      "source": [
        "# IDIOTIC SPEED TASK:\n",
        "\n",
        "#Create a list of 5 number elements\n",
        "numbers = [1,2,3,4,5]\n",
        "#Calculate maximum value of the numbers\n",
        "\n",
        "#Calculate minimum value of the numbers\n",
        "\n",
        "#Calculate average value of numbers\n",
        "\n",
        "#Check if the average value of the list if higher than 3\n",
        "\n",
        "#If the average is greater than 3, print \"Average is greater than 3\", otherwise print \"Average is not greater than 3\"\n",
        "\n",
        "#Sort the list\n",
        "\n",
        "#Remove first number of the list\n",
        "\n",
        "#Add your name to the list\n",
        "\n",
        "#Calculate at what index is your name\n"
      ],
      "metadata": {
        "id": "Jud15MzqmGPX"
      },
      "execution_count": null,
      "outputs": []
    },
    {
      "cell_type": "code",
      "source": [
        "# Create a list of 5 number elements\n",
        "numbers = [1, 6, 13, 2, 5]\n",
        "\n",
        "# # Calculate maximum value of the numbers\n",
        "max_value = max(numbers)\n",
        "print(f\"The maximum value in the list is: {max_value}\")\n",
        "\n",
        "# Calculate minimum value of the numbers\n",
        "min_value = min(numbers)\n",
        "print(f\"The minimum value in the list is: {min_value}\")\n",
        "\n",
        "# Calculate average value of numbers\n",
        "average_value = sum(numbers) / len(numbers)\n",
        "print(f\"The average value in the list is: {average_value}\")\n",
        "\n",
        "# Check if the average value of the list if higher than 3 If the average is greater than 3, print \"Average is greater than 3\", otherwise print \"Average is not greater than 3\".\n",
        "if average_value > 3:\n",
        "  print(\"The average value of numbers in the list is higher than 3\")\n",
        "else:\n",
        "  print(\"The average value of numbers on the list is lower than 3\")\n",
        "\n",
        "# Sort the list\n",
        "\n",
        "numbers.sort()\n",
        "\n",
        "# Remove first number of the list\n",
        "\n",
        "numbers.pop(0)\n",
        "\n",
        "# Add your name to the list\n",
        "numbers.append(\"Elina\")\n",
        "\n",
        "# Calculate at what index is your name\n",
        "numbers.index(\"Elina\")\n"
      ],
      "metadata": {
        "colab": {
          "base_uri": "https://localhost:8080/"
        },
        "id": "R1vhs8foqcJR",
        "outputId": "1e698918-1049-468a-ca06-2ae9b74c87f3"
      },
      "execution_count": null,
      "outputs": [
        {
          "output_type": "stream",
          "name": "stdout",
          "text": [
            "The maximum value in the list is: 13\n",
            "The minimum value in the list is: 1\n",
            "The average value in the list is: 5.4\n",
            "The average value of numbers in the list is higher than 3\n"
          ]
        },
        {
          "output_type": "execute_result",
          "data": {
            "text/plain": [
              "4"
            ]
          },
          "metadata": {},
          "execution_count": 30
        }
      ]
    },
    {
      "cell_type": "code",
      "source": [
        "# FOR-LOOPS using RANGE\n",
        "# range generates a list of integers\n",
        "list(range(7))\n",
        "\n",
        "# range (start, stop, step)//iterable objects\n",
        "list(range(10,25))\n",
        "list(range(10, 88, 10))\n"
      ],
      "metadata": {
        "colab": {
          "base_uri": "https://localhost:8080/"
        },
        "id": "wgZXQghqrdBW",
        "outputId": "de93d82b-5888-4742-9567-84e9cfbc923e"
      },
      "execution_count": null,
      "outputs": [
        {
          "output_type": "execute_result",
          "data": {
            "text/plain": [
              "[10, 20, 30, 40, 50, 60, 70, 80]"
            ]
          },
          "metadata": {},
          "execution_count": 37
        }
      ]
    },
    {
      "cell_type": "code",
      "source": [
        "numbers_with_range = range(1,7)#iterable objects [1,2,3,4,5,6]#katru item var arī modificēt, piemēram, reizināt ar 2\n",
        "for number in numbers_with_range:\n",
        "  number = number*2\n",
        "  print(number)\n"
      ],
      "metadata": {
        "colab": {
          "base_uri": "https://localhost:8080/"
        },
        "id": "ZGQ7AaBFtIZ-",
        "outputId": "7be497b4-0b24-4f36-ec80-64e87c786ada"
      },
      "execution_count": null,
      "outputs": [
        {
          "output_type": "stream",
          "name": "stdout",
          "text": [
            "2\n",
            "4\n",
            "6\n",
            "8\n",
            "10\n",
            "12\n"
          ]
        }
      ]
    },
    {
      "cell_type": "code",
      "source": [
        "numbers_with_range = range(1,7)#iterable objects [1,2,3,4,5,6]#prints out each number seperately\n",
        "for number in numbers_with_range:\n",
        "  print(number)"
      ],
      "metadata": {
        "colab": {
          "base_uri": "https://localhost:8080/"
        },
        "id": "ikdklFqquMFX",
        "outputId": "dcb51f2e-c5a7-4874-e0a6-bcde759381d3"
      },
      "execution_count": null,
      "outputs": [
        {
          "output_type": "stream",
          "name": "stdout",
          "text": [
            "1\n",
            "2\n",
            "3\n",
            "4\n",
            "5\n",
            "6\n"
          ]
        }
      ]
    },
    {
      "cell_type": "code",
      "source": [],
      "metadata": {
        "id": "WFC2Y_HgsSrO"
      },
      "execution_count": null,
      "outputs": []
    }
  ]
}