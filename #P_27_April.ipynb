{
  "nbformat": 4,
  "nbformat_minor": 0,
  "metadata": {
    "colab": {
      "provenance": [],
      "authorship_tag": "ABX9TyPlNAr7Bs8tbXf6HJFM6Vsb",
      "include_colab_link": true
    },
    "kernelspec": {
      "name": "python3",
      "display_name": "Python 3"
    },
    "language_info": {
      "name": "python"
    }
  },
  "cells": [
    {
      "cell_type": "markdown",
      "metadata": {
        "id": "view-in-github",
        "colab_type": "text"
      },
      "source": [
        "<a href=\"https://colab.research.google.com/github/Laura-Burgmane/Python/blob/main/%23P_27_April.ipynb\" target=\"_parent\"><img src=\"https://colab.research.google.com/assets/colab-badge.svg\" alt=\"Open In Colab\"/></a>"
      ]
    },
    {
      "cell_type": "markdown",
      "source": [
        "FOR-LOOPS\n"
      ],
      "metadata": {
        "id": "JC3Z9VYyXniq"
      }
    },
    {
      "cell_type": "code",
      "source": [
        "# element in iterable object\n",
        "for letter in \"I LOVE PYTHON\": #iterable object is string; # word \"letter\" can be any name\n",
        "  print(letter)"
      ],
      "metadata": {
        "colab": {
          "base_uri": "https://localhost:8080/"
        },
        "id": "RKJJraP0XpxU",
        "outputId": "fd794692-d68a-4257-ecb7-83341db38074"
      },
      "execution_count": null,
      "outputs": [
        {
          "output_type": "stream",
          "name": "stdout",
          "text": [
            "I\n",
            " \n",
            "L\n",
            "O\n",
            "V\n",
            "E\n",
            " \n",
            "P\n",
            "Y\n",
            "T\n",
            "H\n",
            "O\n",
            "N\n"
          ]
        }
      ]
    },
    {
      "cell_type": "code",
      "source": [
        "for number in [1,2,3,4,5,6]:\n",
        "  print(number, end = \" \")\n"
      ],
      "metadata": {
        "colab": {
          "base_uri": "https://localhost:8080/"
        },
        "id": "dEOPXRBwYdzM",
        "outputId": "68cc61c0-6f89-450e-841f-f8f44a1ea29a"
      },
      "execution_count": null,
      "outputs": [
        {
          "output_type": "stream",
          "name": "stdout",
          "text": [
            "1 2 3 4 5 6 "
          ]
        }
      ]
    },
    {
      "cell_type": "code",
      "source": [
        "for number in [1,2,3,4,5,6]:\n",
        "  print(number, end = \\n) #\\n is new line\n"
      ],
      "metadata": {
        "colab": {
          "base_uri": "https://localhost:8080/",
          "height": 105
        },
        "id": "QlfAtUWFY0w8",
        "outputId": "e3f347b2-da09-444b-c72f-73592cb74d93"
      },
      "execution_count": null,
      "outputs": [
        {
          "output_type": "error",
          "ename": "SyntaxError",
          "evalue": "unexpected character after line continuation character (<ipython-input-6-d7d1cd218bfa>, line 2)",
          "traceback": [
            "\u001b[0;36m  File \u001b[0;32m\"<ipython-input-6-d7d1cd218bfa>\"\u001b[0;36m, line \u001b[0;32m2\u001b[0m\n\u001b[0;31m    print(number, end = \\n)\u001b[0m\n\u001b[0m                         ^\u001b[0m\n\u001b[0;31mSyntaxError\u001b[0m\u001b[0;31m:\u001b[0m unexpected character after line continuation character\n"
          ]
        }
      ]
    },
    {
      "cell_type": "code",
      "source": [
        "# for-loop list:\n",
        "cities_i_have_been_to = ['Tallin', 'Riga', 'Tartu', 'Aluksne', 'Viru', 'Ventspils']\n",
        "for city in cities_i_have_been_to:\n",
        "  print(f\"I have been to {city}\")"
      ],
      "metadata": {
        "colab": {
          "base_uri": "https://localhost:8080/"
        },
        "id": "_yn2--nIZBlz",
        "outputId": "263c87ce-7a69-47d1-d8b7-ff35da096fd2"
      },
      "execution_count": null,
      "outputs": [
        {
          "output_type": "stream",
          "name": "stdout",
          "text": [
            "I have been to Tallin\n",
            "I have been to Riga\n",
            "I have been to Tartu\n",
            "I have been to Aluksne\n",
            "I have been to Viru\n",
            "I have been to Ventspils\n"
          ]
        }
      ]
    },
    {
      "cell_type": "code",
      "source": [
        "# for-loop list with counter (kārtas numurs priekšā):\n",
        "counter = 1 #initialize the counter\n",
        "\n",
        "cities_i_have_been_to = ['Tallin', 'Riga', 'Tartu', 'Aluksne', 'Viru', 'Ventspils']\n",
        "for city in cities_i_have_been_to:\n",
        "  print(f\" {counter}. I have been to {city}\")\n",
        "  counter = counter+1\n"
      ],
      "metadata": {
        "colab": {
          "base_uri": "https://localhost:8080/"
        },
        "id": "sis6TYcqaHQy",
        "outputId": "ee1a162a-4510-4de7-f37d-06e340d86325"
      },
      "execution_count": null,
      "outputs": [
        {
          "output_type": "stream",
          "name": "stdout",
          "text": [
            " 1. I have been to Tallin\n",
            " 2. I have been to Riga\n",
            " 3. I have been to Tartu\n",
            " 4. I have been to Aluksne\n",
            " 5. I have been to Viru\n",
            " 6. I have been to Ventspils\n"
          ]
        }
      ]
    },
    {
      "cell_type": "code",
      "source": [
        "# for-loop list with counter (kārtas numurs priekšā): counter set for 0, tad var likt counter = counter+1 pirms print line\n",
        "counter = 0 #initialize the counter\n",
        "\n",
        "cities_i_have_been_to = ['Tallin', 'Riga', 'Tartu', 'Aluksne', 'Viru', 'Ventspils']\n",
        "for city in cities_i_have_been_to:\n",
        "  counter = counter+1\n",
        "  print(f\" {counter}. I have been to {city}\")\n"
      ],
      "metadata": {
        "id": "uA_089qZbMT3"
      },
      "execution_count": null,
      "outputs": []
    },
    {
      "cell_type": "code",
      "source": [
        "# get the previous city/add previus city in the for-loop:\n",
        "counter = 1 #initialize the counter\n",
        "previous_city = None #need to initialize new variable before it can be used in for-loop\n",
        "\n",
        "cities_i_have_been_to = ['Tallin', 'Riga', 'Tartu', 'Aluksne', 'Viru', 'Ventspils']\n",
        "for city in cities_i_have_been_to:\n",
        "  print(f\" {counter}. I have been to {city}. The previus city I visited was {previous_city}\")\n",
        "  counter = counter+1\n",
        "  previous_city = city"
      ],
      "metadata": {
        "colab": {
          "base_uri": "https://localhost:8080/"
        },
        "id": "jQIsOjP2bwta",
        "outputId": "ce002b7d-8043-460d-979a-974f78eb97af"
      },
      "execution_count": null,
      "outputs": [
        {
          "output_type": "stream",
          "name": "stdout",
          "text": [
            " 1. I have been to Tallin. The previus city I visited was None\n",
            " 2. I have been to Riga. The previus city I visited was Tallin\n",
            " 3. I have been to Tartu. The previus city I visited was Riga\n",
            " 4. I have been to Aluksne. The previus city I visited was Tartu\n",
            " 5. I have been to Viru. The previus city I visited was Aluksne\n",
            " 6. I have been to Ventspils. The previus city I visited was Viru\n"
          ]
        }
      ]
    },
    {
      "cell_type": "code",
      "source": [
        "# task:\n",
        "# ADD PREVIOUS CITY IN THE FORLOOP\n",
        "cities_i_have_been_to = ['Tallin', 'Riga', 'Tartu', 'Aluksne', 'Viru', 'Ventspils']\n",
        "counter = 1 #INITIALIZE THE COUNTER\n",
        "previous_city = None\n",
        "\n",
        "for city in cities_i_have_been_to:\n",
        "  if previous_city == None:\n",
        "    print(f'{counter}. I have been to {city}. I have not visited any other cities before.')# lai pirmajā reizē nebūtu iepriekšējā pilsēta NONE\n",
        "  else:\n",
        "    print(f'{counter}. I have been to {city}. The previous city I visited was {previous_city}.')\n",
        "  counter = counter + 1\n",
        "  previous_city = city"
      ],
      "metadata": {
        "colab": {
          "base_uri": "https://localhost:8080/"
        },
        "id": "DDtlUiz3dCyM",
        "outputId": "8d077543-93aa-44d4-8e81-c10091634262"
      },
      "execution_count": null,
      "outputs": [
        {
          "output_type": "stream",
          "name": "stdout",
          "text": [
            "1. I have been to Tallin. I have not visited any other cities before.\n",
            "2. I have been to Riga. The previous city I visited was Tallin.\n",
            "3. I have been to Tartu. The previous city I visited was Riga.\n",
            "4. I have been to Aluksne. The previous city I visited was Tartu.\n",
            "5. I have been to Viru. The previous city I visited was Aluksne.\n",
            "6. I have been to Ventspils. The previous city I visited was Viru.\n"
          ]
        }
      ]
    },
    {
      "cell_type": "code",
      "source": [
        "# for-loops with INDEXES:\n",
        "cities_i_have_been_to = ['Tallin', 'Riga', 'Tartu', 'Aluksne', 'Viru', 'Ventspils']\n",
        "which_year_I_visited = [2020, 2024, 2020, 2021, 2024, 2022]\n",
        "\n",
        "len(cities_i_have_been_to) #how many elements in the list\n",
        "range(list(cities_i_have_been_to))\n",
        "list(range(len(cities_i_have_been_to)))#elements\n"
      ],
      "metadata": {
        "colab": {
          "base_uri": "https://localhost:8080/",
          "height": 190
        },
        "id": "YnFHIaTMfj49",
        "outputId": "0029bd99-814c-467c-f114-04c405f69530"
      },
      "execution_count": null,
      "outputs": [
        {
          "output_type": "error",
          "ename": "TypeError",
          "evalue": "'list' object cannot be interpreted as an integer",
          "traceback": [
            "\u001b[0;31m---------------------------------------------------------------------------\u001b[0m",
            "\u001b[0;31mTypeError\u001b[0m                                 Traceback (most recent call last)",
            "\u001b[0;32m<ipython-input-23-693d4233c2e8>\u001b[0m in \u001b[0;36m<cell line: 6>\u001b[0;34m()\u001b[0m\n\u001b[1;32m      4\u001b[0m \u001b[0;34m\u001b[0m\u001b[0m\n\u001b[1;32m      5\u001b[0m \u001b[0mlen\u001b[0m\u001b[0;34m(\u001b[0m\u001b[0mcities_i_have_been_to\u001b[0m\u001b[0;34m)\u001b[0m \u001b[0;31m#how many elements in the list\u001b[0m\u001b[0;34m\u001b[0m\u001b[0;34m\u001b[0m\u001b[0m\n\u001b[0;32m----> 6\u001b[0;31m \u001b[0mrange\u001b[0m\u001b[0;34m(\u001b[0m\u001b[0mlist\u001b[0m\u001b[0;34m(\u001b[0m\u001b[0mcities_i_have_been_to\u001b[0m\u001b[0;34m)\u001b[0m\u001b[0;34m)\u001b[0m\u001b[0;34m\u001b[0m\u001b[0;34m\u001b[0m\u001b[0m\n\u001b[0m\u001b[1;32m      7\u001b[0m \u001b[0mlist\u001b[0m\u001b[0;34m(\u001b[0m\u001b[0mrange\u001b[0m\u001b[0;34m(\u001b[0m\u001b[0mlen\u001b[0m\u001b[0;34m(\u001b[0m\u001b[0mcities_i_have_been_to\u001b[0m\u001b[0;34m)\u001b[0m\u001b[0;34m)\u001b[0m\u001b[0;34m)\u001b[0m\u001b[0;34m\u001b[0m\u001b[0;34m\u001b[0m\u001b[0m\n",
            "\u001b[0;31mTypeError\u001b[0m: 'list' object cannot be interpreted as an integer"
          ]
        }
      ]
    },
    {
      "cell_type": "code",
      "source": [
        "# with for loops can iterate through list by indexes????\n",
        "cities_i_have_been_to = ['Tallin', 'Riga', 'Tartu', 'Aluksne', 'Viru', 'Ventspils']\n",
        "which_year_I_visited = [2020, 2024, 2020, 2021, 2024, 2022]\n",
        "range(len(cities_i_have_been_to))# creates an iterable object that is not a list itself\n",
        "for i in range(len(cities_i_have_been_to)):\n",
        "  print(f'This is the index {i}')\n",
        "  print(cities_i_have_been_to[i])\n",
        "  print(which_year_I_visited[i])\n"
      ],
      "metadata": {
        "colab": {
          "base_uri": "https://localhost:8080/"
        },
        "id": "zD8VDHMvg4r1",
        "outputId": "b450ff26-9049-43b8-c9be-1b94d9f7c3f7"
      },
      "execution_count": null,
      "outputs": [
        {
          "output_type": "stream",
          "name": "stdout",
          "text": [
            "This is the index 0\n",
            "Tallin\n",
            "2020\n",
            "This is the index 1\n",
            "Riga\n",
            "2024\n",
            "This is the index 2\n",
            "Tartu\n",
            "2020\n",
            "This is the index 3\n",
            "Aluksne\n",
            "2021\n",
            "This is the index 4\n",
            "Viru\n",
            "2024\n",
            "This is the index 5\n",
            "Ventspils\n",
            "2022\n"
          ]
        }
      ]
    },
    {
      "cell_type": "code",
      "source": [
        "#using indexes to iterate through various lists, if they are the same length (if not, code wont work, need other solution)\n",
        "cities_i_have_been_to = ['Tallin', 'Riga', 'Tartu', 'Aluksne', 'Viru', 'Ventspils']\n",
        "which_year_I_visited = [2020, 2024, 2020, 2021, 2024, 2022]\n",
        "\n",
        "for i in range(len(cities_i_have_been_to)):\n",
        "  print(f'I have been to {cities_i_have_been_to[i]} and I visited that city in year {which_year_I_visited[i]}')\n"
      ],
      "metadata": {
        "colab": {
          "base_uri": "https://localhost:8080/"
        },
        "id": "pxJZLfbpi4U9",
        "outputId": "e6377af6-6a32-4912-aaf1-a164c5837849"
      },
      "execution_count": null,
      "outputs": [
        {
          "output_type": "stream",
          "name": "stdout",
          "text": [
            "I have been to Tallin and I visited that city in year 2020\n",
            "I have been to Riga and I visited that city in year 2024\n",
            "I have been to Tartu and I visited that city in year 2020\n",
            "I have been to Aluksne and I visited that city in year 2021\n",
            "I have been to Viru and I visited that city in year 2024\n",
            "I have been to Ventspils and I visited that city in year 2022\n"
          ]
        }
      ]
    },
    {
      "cell_type": "markdown",
      "source": [
        "NESTED LISTS:\n"
      ],
      "metadata": {
        "id": "QZFJX-oeoem_"
      }
    },
    {
      "cell_type": "code",
      "source": [
        "matrix_2d = [\n",
        "    [1, 2, 3],\n",
        "    [4, 5, 6],\n",
        "    [7, 8, 9]]\n",
        "\n",
        "for i in matrix_2d:\n",
        "  print(i)\n"
      ],
      "metadata": {
        "colab": {
          "base_uri": "https://localhost:8080/"
        },
        "id": "pwace9eFoam2",
        "outputId": "d62887e8-78c1-4f49-8f58-0f05c2a95acf"
      },
      "execution_count": null,
      "outputs": [
        {
          "output_type": "stream",
          "name": "stdout",
          "text": [
            "[1, 2, 3]\n",
            "[4, 5, 6]\n",
            "[7, 8, 9]\n"
          ]
        }
      ]
    },
    {
      "cell_type": "code",
      "source": [
        "matrix_2d = [\n",
        "    [1, 2, 3],\n",
        "    [4, 5, 6],\n",
        "    [7, 8, 9]]\n",
        "\n",
        "for i in matrix_2d:\n",
        "  print(f'This is the sub-list: {i}')\n",
        "  for j in i:\n",
        "    print(f'These are the elements of the sub-list: {j}')\n",
        "\n"
      ],
      "metadata": {
        "colab": {
          "base_uri": "https://localhost:8080/"
        },
        "id": "l1bS79nso4Sh",
        "outputId": "778205ec-7aa7-4737-8df3-648541355f7e"
      },
      "execution_count": null,
      "outputs": [
        {
          "output_type": "stream",
          "name": "stdout",
          "text": [
            "This is the sub-list: [1, 2, 3]\n",
            "These are the elements of the sub-list: 1\n",
            "These are the elements of the sub-list: 2\n",
            "These are the elements of the sub-list: 3\n",
            "This is the sub-list: [4, 5, 6]\n",
            "These are the elements of the sub-list: 4\n",
            "These are the elements of the sub-list: 5\n",
            "These are the elements of the sub-list: 6\n",
            "This is the sub-list: [7, 8, 9]\n",
            "These are the elements of the sub-list: 7\n",
            "These are the elements of the sub-list: 8\n",
            "These are the elements of the sub-list: 9\n"
          ]
        }
      ]
    },
    {
      "cell_type": "markdown",
      "source": [
        "GRADE MAPPING EXCERCISE:"
      ],
      "metadata": {
        "id": "xvX36lAJqd39"
      }
    },
    {
      "cell_type": "code",
      "source": [
        "#real life example with if statemenr, range, and nested list\n",
        "# grade mapping data:\n",
        "grade_mapping = [[90, 'A'], [80, 'B'], [70, 'C'], [60, 'D'], [0, 'F']] #this is a nested list\n",
        "\n",
        "grade_mapping[0]\n",
        "grade_mapping[0][1] #first[]for sublist (counting form 0), second[]for an item in sublist (counting from 0)\n",
        "grade_mapping[3][1]"
      ],
      "metadata": {
        "colab": {
          "base_uri": "https://localhost:8080/",
          "height": 37
        },
        "id": "ZQlodbI7qNL5",
        "outputId": "af30af95-cb70-4a54-8e64-1bae0ffde9e9"
      },
      "execution_count": null,
      "outputs": [
        {
          "output_type": "execute_result",
          "data": {
            "text/plain": [
              "'D'"
            ],
            "application/vnd.google.colaboratory.intrinsic+json": {
              "type": "string"
            }
          },
          "metadata": {},
          "execution_count": 38
        }
      ]
    },
    {
      "cell_type": "code",
      "source": [
        "# unpacking items from particular sub-list:\n",
        "for threshold, letter_grade in grade_mapping:\n",
        "  print(letter_grade)"
      ],
      "metadata": {
        "colab": {
          "base_uri": "https://localhost:8080/"
        },
        "id": "nupUx4-Prnz6",
        "outputId": "7d733bed-6d52-4f73-9b8c-fb085ac2a1fc"
      },
      "execution_count": null,
      "outputs": [
        {
          "output_type": "stream",
          "name": "stdout",
          "text": [
            "A\n",
            "B\n",
            "C\n",
            "D\n",
            "F\n"
          ]
        }
      ]
    },
    {
      "cell_type": "code",
      "source": [
        "# unpacking items from particular sub-list:\n",
        "for threshold, letter_grade in grade_mapping:\n",
        "  print(threshold)"
      ],
      "metadata": {
        "colab": {
          "base_uri": "https://localhost:8080/"
        },
        "id": "qZhUfNvesBHx",
        "outputId": "9d88a9ba-921e-435d-977b-f5da83ab74fc"
      },
      "execution_count": null,
      "outputs": [
        {
          "output_type": "stream",
          "name": "stdout",
          "text": [
            "90\n",
            "80\n",
            "70\n",
            "60\n",
            "0\n"
          ]
        }
      ]
    },
    {
      "cell_type": "code",
      "source": [
        "student_names = [\"Alice\", \"Bob\", \"Charlie\", \"David\", \"Eva\"]\n",
        "student_scores = [85, 72, 93, 60, 77]\n",
        "grade_mapping = [[90, 'A'], [80, 'B'], [70, 'C'], [60, 'D'], [0, 'F']]\n",
        "\n",
        "for i in range(len(student_names)):\n",
        "  print(f'Student {student_names[i]} grade is {student_scores[i]}')"
      ],
      "metadata": {
        "colab": {
          "base_uri": "https://localhost:8080/"
        },
        "id": "JG5nzlUAsHIW",
        "outputId": "0fbd5589-4a99-447d-9311-b538fd443c4b"
      },
      "execution_count": null,
      "outputs": [
        {
          "output_type": "stream",
          "name": "stdout",
          "text": [
            "Student Alice grade is 85\n",
            "Student Bob grade is 72\n",
            "Student Charlie grade is 93\n",
            "Student David grade is 60\n",
            "Student Eva grade is 77\n"
          ]
        }
      ]
    },
    {
      "cell_type": "code",
      "source": [
        "student_names = [\"Alice\", \"Bob\", \"Charlie\", \"David\", \"Eva\"]\n",
        "student_scores = [85, 72, 93, 60, 77]\n",
        "grade_mapping = [[90, 'A'], [80, 'B'], [70, 'C'], [60, 'D'], [0, 'F']]\n",
        "\n",
        "for i in range(len(student_scores)):\n",
        "  print(student_scores[i])\n",
        "  print(student_names[i])\n",
        "  score = student_scores[i]\n",
        "  for number_grade, letter_grade in grade_mapping:\n",
        "    if score >= number_grade:\n",
        "      print(f'Hi,{student_names[i]}, your grade letter is {letter_grade}')\n",
        "      break"
      ],
      "metadata": {
        "colab": {
          "base_uri": "https://localhost:8080/"
        },
        "id": "7AHbOUbvthA5",
        "outputId": "1c858a9f-4687-4f31-c250-76ac717dbbd6"
      },
      "execution_count": null,
      "outputs": [
        {
          "output_type": "stream",
          "name": "stdout",
          "text": [
            "85\n",
            "Alice\n",
            "Hi,Alice, your grade letter is B\n",
            "72\n",
            "Bob\n",
            "Hi,Bob, your grade letter is C\n",
            "93\n",
            "Charlie\n",
            "Hi,Charlie, your grade letter is A\n",
            "60\n",
            "David\n",
            "Hi,David, your grade letter is D\n",
            "77\n",
            "Eva\n",
            "Hi,Eva, your grade letter is C\n"
          ]
        }
      ]
    },
    {
      "cell_type": "code",
      "source": [
        "# numering (the same thing as counter)\n",
        "student_names = [\"Alice\", \"Bob\", \"Charlie\", \"David\", \"Eva\"]\n",
        "\n",
        "for index, student in enumerate(student_names, start = 1):\n",
        "  print(f'Student {index}: {student}')"
      ],
      "metadata": {
        "colab": {
          "base_uri": "https://localhost:8080/"
        },
        "id": "3psafeeHwqCk",
        "outputId": "29924073-aeb3-4408-f105-148bbfbd5d1e"
      },
      "execution_count": null,
      "outputs": [
        {
          "output_type": "stream",
          "name": "stdout",
          "text": [
            "Student 1: Alice\n",
            "Student 2: Bob\n",
            "Student 3: Charlie\n",
            "Student 4: David\n",
            "Student 5: Eva\n"
          ]
        }
      ]
    },
    {
      "cell_type": "code",
      "source": [
        "# 3 ways to do the counting:\n",
        "\n",
        "student_names = [\"Alice\", \"Bob\", \"Charlie\", \"David\", \"Eva\"]\n",
        "\n",
        "#ENUMERATE\n",
        "for index, student in enumerate(student_names):\n",
        "  print(f'Student {index}: {student}')\n",
        "\n",
        "#COUNTER\n",
        "counter = 0 #INITIALIZE THE COUNTER\n",
        "for student in student_names:\n",
        "  print(f'Student {counter}: {student}')\n",
        "  counter = counter + 1\n",
        "\n",
        "#RANGE\n",
        "for i in range(len(student_names)):\n",
        "  print(f'Student {i}: {student_names[i]}')"
      ],
      "metadata": {
        "id": "q7Op4NZ1yPoE"
      },
      "execution_count": null,
      "outputs": []
    },
    {
      "cell_type": "code",
      "source": [
        "# team task:\n",
        "what methods are availabe for string objects"
      ],
      "metadata": {
        "id": "WBsUqjuvyaoT"
      },
      "execution_count": null,
      "outputs": []
    }
  ]
}