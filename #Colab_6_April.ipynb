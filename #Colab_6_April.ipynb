{
  "nbformat": 4,
  "nbformat_minor": 0,
  "metadata": {
    "colab": {
      "provenance": [],
      "authorship_tag": "ABX9TyM672/eTVqPdDRgG+qyksR0",
      "include_colab_link": true
    },
    "kernelspec": {
      "name": "python3",
      "display_name": "Python 3"
    },
    "language_info": {
      "name": "python"
    }
  },
  "cells": [
    {
      "cell_type": "markdown",
      "metadata": {
        "id": "view-in-github",
        "colab_type": "text"
      },
      "source": [
        "<a href=\"https://colab.research.google.com/github/Laura-Burgmane/Python/blob/main/%23Colab_6_April.ipynb\" target=\"_parent\"><img src=\"https://colab.research.google.com/assets/colab-badge.svg\" alt=\"Open In Colab\"/></a>"
      ]
    },
    {
      "cell_type": "code",
      "execution_count": null,
      "metadata": {
        "id": "XKAcqR9zN4l9"
      },
      "outputs": [],
      "source": []
    },
    {
      "cell_type": "code",
      "source": [
        "x = 5 # = assign a variable\n",
        "y = 5\n",
        "\n",
        "print(x==5) #to test, to compare if var are equal\n",
        "print('1'==1) #text field 1 is not equal to number 1"
      ],
      "metadata": {
        "colab": {
          "base_uri": "https://localhost:8080/"
        },
        "id": "Ox7IiE8bOIYg",
        "outputId": "d370a9a9-9836-444a-ee0c-df80210239ec"
      },
      "execution_count": null,
      "outputs": [
        {
          "output_type": "stream",
          "name": "stdout",
          "text": [
            "True\n",
            "False\n"
          ]
        }
      ]
    },
    {
      "cell_type": "code",
      "source": [
        "# not equal !=\n",
        "print(x != y)"
      ],
      "metadata": {
        "colab": {
          "base_uri": "https://localhost:8080/"
        },
        "id": "W1mtdWpUQEKy",
        "outputId": "a90edbc1-ad36-4253-931c-cd6d681c7cc9"
      },
      "execution_count": null,
      "outputs": [
        {
          "output_type": "stream",
          "name": "stdout",
          "text": [
            "False\n"
          ]
        }
      ]
    },
    {
      "cell_type": "code",
      "source": [
        "# greater than other >\n",
        "print(x>y)\n",
        "print(x>2)"
      ],
      "metadata": {
        "colab": {
          "base_uri": "https://localhost:8080/"
        },
        "id": "KbaXTYOFQdbq",
        "outputId": "f20b488b-a8a3-456a-8301-d1eab1bbc574"
      },
      "execution_count": null,
      "outputs": [
        {
          "output_type": "stream",
          "name": "stdout",
          "text": [
            "False\n",
            "True\n"
          ]
        }
      ]
    },
    {
      "cell_type": "code",
      "source": [
        "# less than <\n",
        "print(x<y)\n",
        "print(x<6)"
      ],
      "metadata": {
        "colab": {
          "base_uri": "https://localhost:8080/"
        },
        "id": "Y22KgQLrQuGl",
        "outputId": "deb7acad-b53a-45eb-96c6-a9e7324fe30c"
      },
      "execution_count": null,
      "outputs": [
        {
          "output_type": "stream",
          "name": "stdout",
          "text": [
            "False\n",
            "True\n"
          ]
        }
      ]
    },
    {
      "cell_type": "code",
      "source": [
        "# greater/smaller OR equal >= or <=\n",
        "print(x>=y)\n",
        "print(x<=4)"
      ],
      "metadata": {
        "colab": {
          "base_uri": "https://localhost:8080/"
        },
        "id": "TlPKOy6-Q3TY",
        "outputId": "d2db6d3a-8b07-4e99-8bba-68dd764f65c9"
      },
      "execution_count": null,
      "outputs": [
        {
          "output_type": "stream",
          "name": "stdout",
          "text": [
            "True\n",
            "False\n"
          ]
        }
      ]
    },
    {
      "cell_type": "code",
      "source": [
        "#if else statements\n",
        "x = 50\n",
        "if x < 50:\n",
        "  print(\"less than 50\") #indentations/atkāpes important to run the code\n",
        "else:\n",
        "  print('more than or equal to 50')\n",
        "print('Finish') #if print statement typed without indents, this will be run anyway after all applicable if/else evaluations done"
      ],
      "metadata": {
        "colab": {
          "base_uri": "https://localhost:8080/"
        },
        "id": "WeTESVZuRZcS",
        "outputId": "4f43c09a-6288-411d-ea53-0180ecc023da"
      },
      "execution_count": null,
      "outputs": [
        {
          "output_type": "stream",
          "name": "stdout",
          "text": [
            "more than or equal to 50\n",
            "Finish\n"
          ]
        }
      ]
    },
    {
      "cell_type": "code",
      "source": [
        "a = 20\n",
        "if a > 10:\n",
        "  print('a is above 10')\n",
        "  print('This is still withing block')\n",
        "print('This is outside the block')"
      ],
      "metadata": {
        "colab": {
          "base_uri": "https://localhost:8080/"
        },
        "id": "9eX65O0CVN-C",
        "outputId": "89b632a9-afca-4962-8381-5c19fa9659ca"
      },
      "execution_count": null,
      "outputs": [
        {
          "output_type": "stream",
          "name": "stdout",
          "text": [
            "a is above 10\n",
            "This is still withing block\n",
            "This is outside the block\n"
          ]
        }
      ]
    },
    {
      "cell_type": "code",
      "source": [
        "age = 18 #hard coded value\n",
        "\n",
        "\n",
        "if age >= 18:\n",
        "  print('You are eligable to vote')\n",
        "  print('Please proceed to the voting booth!')\n",
        "else:\n",
        "    print('You are too young to vote')\n",
        "print('Thank you for participating')"
      ],
      "metadata": {
        "colab": {
          "base_uri": "https://localhost:8080/"
        },
        "id": "v61IbqhPV0sz",
        "outputId": "6d4e6bb8-6af4-455f-f2c2-9e78fe781665"
      },
      "execution_count": null,
      "outputs": [
        {
          "output_type": "stream",
          "name": "stdout",
          "text": [
            "You are eligable to vote\n",
            "Please proceed to the voting booth!\n",
            "Thank you for participating\n"
          ]
        }
      ]
    },
    {
      "cell_type": "code",
      "source": [
        "age = int(input('How old are you?')) #input always gives String/text value, for comparison need number/digit, therefore need to convert the data type\n",
        "\n",
        "if age >= 18:\n",
        "  print('You are eligable to vote')\n",
        "  print('Please proceed to the voting booth!')\n",
        "else:\n",
        "    print('You are too young to vote')\n",
        "print('Thank you for participating')"
      ],
      "metadata": {
        "colab": {
          "base_uri": "https://localhost:8080/"
        },
        "id": "1ZyY6jJZWsHP",
        "outputId": "b6be693b-8e17-4891-f677-d84ccaf634e4"
      },
      "execution_count": null,
      "outputs": [
        {
          "output_type": "stream",
          "name": "stdout",
          "text": [
            "How old are you?28\n",
            "You are eligable to vote\n",
            "Please proceed to the voting booth!\n",
            "Thank you for participating\n"
          ]
        }
      ]
    },
    {
      "cell_type": "code",
      "source": [
        "# modulus operationd % (vai dalās bez atlikuma) %\n",
        "\n",
        "number = int(input('Enter a number:'))\n",
        "# check if the number is even or odd\n",
        "if number % 2 == 0:\n",
        "  print(f'The number {number} is even')\n",
        "else:\n",
        "  print(f'The number is odd')\n"
      ],
      "metadata": {
        "colab": {
          "base_uri": "https://localhost:8080/"
        },
        "id": "WMhOf5bBXPX_",
        "outputId": "ccb0f40d-62d1-4fc4-9a5f-db0607f9ef35"
      },
      "execution_count": null,
      "outputs": [
        {
          "output_type": "stream",
          "name": "stdout",
          "text": [
            "Enter a number:10\n",
            "The number 10 is even\n"
          ]
        }
      ]
    },
    {
      "cell_type": "code",
      "source": [
        "# payment approval\n",
        "\n",
        "#if the transaction can be done based on the account balance:\n",
        "\n",
        "account_balance = float(input('Enter you account balance:'))\n",
        "transaction_amount = float(input('Enter the transaction amount:'))\n",
        "\n",
        "if transaction_amount <= account_balance:\n",
        "  print('You can buy this!')\n",
        "\n",
        "else:\n",
        "  print('Go earn a bit more!')\n"
      ],
      "metadata": {
        "colab": {
          "base_uri": "https://localhost:8080/"
        },
        "id": "BtWVzd7PZOpG",
        "outputId": "ac96747b-15b3-4520-c6b8-dd774339c832"
      },
      "execution_count": null,
      "outputs": [
        {
          "output_type": "stream",
          "name": "stdout",
          "text": [
            "Enter you account balance:90\n",
            "Enter the transaction amount:100\n",
            "Go earn a bit more!\n"
          ]
        }
      ]
    },
    {
      "cell_type": "code",
      "source": [
        "# access management system\n",
        "\n",
        "STORED_USERNAME = 'user123'\n",
        "STORED_PASSWORD = 'pass123'\n",
        "\n",
        "username = input('Enter your username:')\n",
        "password = input ('Enter your password:')\n",
        "\n",
        "if username == STORED_USERNAME and password == STORED_PASSWORD:\n",
        "  print:('Access is granted!')\n",
        "else:\n",
        "  print('Access is denied...')\n",
        "\n",
        "#my silly attempt:\n",
        "#input('What is your username?')\n",
        "#input('Type in your password:')\n",
        "#if (input('What is your username?) == STORED_USERNAME && input('Type in your password:') == STORED_PASSWORD:\n",
        "  #print('You have access to this account'\n",
        " #else:\n",
        "   #     print('You have no access to this account')"
      ],
      "metadata": {
        "colab": {
          "base_uri": "https://localhost:8080/"
        },
        "id": "XX5GdCNNeTBh",
        "outputId": "21232b8c-82bf-425b-cf9a-d122a83a4abe"
      },
      "execution_count": null,
      "outputs": [
        {
          "name": "stdout",
          "output_type": "stream",
          "text": [
            "Enter your username:user123\n",
            "Enter your password:pass123\n"
          ]
        }
      ]
    },
    {
      "cell_type": "code",
      "source": [
        "#elif means (else..if) multiway decisions\n",
        "x = 10\n",
        "if x < 5:\n",
        "  print('Small')\n",
        "elif x < 15:\n",
        "  print('Medium')\n",
        "else:\n",
        "  print('Large')\n",
        "print('All done!')\n"
      ],
      "metadata": {
        "colab": {
          "base_uri": "https://localhost:8080/"
        },
        "id": "lGgU-L8dg_7q",
        "outputId": "4b1a159b-820b-42c6-ac92-069b774231a1"
      },
      "execution_count": null,
      "outputs": [
        {
          "output_type": "stream",
          "name": "stdout",
          "text": [
            "Medium\n",
            "All done!\n"
          ]
        }
      ]
    },
    {
      "cell_type": "code",
      "source": [
        "#grading in scale 100, convert 100 to abcdef\n",
        "\n",
        "score = int(input('Enter your score:'))\n",
        "\n",
        "if score >= 90:\n",
        "  print('Your grade is A')\n",
        "elif score >= 80:\n",
        "  print('Your grade is B')\n",
        "elif score >= 70:\n",
        "  print('Your grade is C')\n",
        "elif score >= 60:\n",
        "  print('Your grade is D')\n",
        "elif score >=50 and score <60:\n",
        "  print('Your are on the edge to be accepted...')\n",
        "else:\n",
        "  print('Your grade is F...')"
      ],
      "metadata": {
        "colab": {
          "base_uri": "https://localhost:8080/"
        },
        "id": "m8L3V5LeiC66",
        "outputId": "a828e261-424e-495e-90fd-9c6b18836e10"
      },
      "execution_count": null,
      "outputs": [
        {
          "output_type": "stream",
          "name": "stdout",
          "text": [
            "Enter your score:55\n",
            "Your are on the edge to be accepted...\n"
          ]
        }
      ]
    },
    {
      "cell_type": "code",
      "source": [
        "# try - except - else - finally (input gives error fro wrong data type)\n",
        "\n",
        "try:\n",
        "  score = int(input('Enter your score:'))\n",
        "\n",
        "  if score >= 90:\n",
        "    print('Your grade is A')\n",
        "  elif score >= 80:\n",
        "    print('Your grade is B')\n",
        "  elif score >= 70:\n",
        "    print('Your grade is C')\n",
        "  elif score >= 60:\n",
        "    print('Your grade is D')\n",
        "  elif score >=50 and score <60:\n",
        "    print('Your are on the edge to be accepted...')\n",
        "  else:\n",
        "    print('Your grade is F...')\n",
        "\n",
        "except Exception as e:\n",
        "    print('Wrong input, exception: {a}')"
      ],
      "metadata": {
        "colab": {
          "base_uri": "https://localhost:8080/"
        },
        "id": "LCtaGqn5lgWQ",
        "outputId": "ff888194-7187-4fbd-ec44-7f88ff89c7ba"
      },
      "execution_count": null,
      "outputs": [
        {
          "output_type": "stream",
          "name": "stdout",
          "text": [
            "Enter your score:sufficinet\n",
            "Wrong input, exception: {a}\n"
          ]
        }
      ]
    },
    {
      "cell_type": "code",
      "source": [
        "try:\n",
        "  account_balance = float(input('Enter you account balance:'))\n",
        "  transaction_amount = float(input('Enter the transaction amount:'))\n",
        "\n",
        "  if transaction_amount <= account_balance:\n",
        "    print('You can buy this!')\n",
        "\n",
        "  else:\n",
        "    print('Go earn a bit more!')\n",
        "\n",
        "except Exception as any_issue:\n",
        "  print(f'Wrong input, exception: {any_issue}')"
      ],
      "metadata": {
        "colab": {
          "base_uri": "https://localhost:8080/"
        },
        "id": "09KxFJaOm1N7",
        "outputId": "af2892cd-6723-4f7d-dff3-408bf2a6c8dd"
      },
      "execution_count": null,
      "outputs": [
        {
          "output_type": "stream",
          "name": "stdout",
          "text": [
            "Enter you account balance:90\n",
            "Enter the transaction amount:little\n",
            "Wrong input, exception: could not convert string to float: 'little'\n"
          ]
        }
      ]
    },
    {
      "cell_type": "code",
      "source": [
        "# reserved keywords in Python (can not use to define the variables) *see picture downloaded\n"
      ],
      "metadata": {
        "id": "7YwZgU-9komE"
      },
      "execution_count": null,
      "outputs": []
    },
    {
      "cell_type": "code",
      "source": [
        "#TEAMWORK my try:\n",
        "\n",
        "which_temp = input('Would you like to convert temperature from Celsius to Fahrenheit (yes/no)?')\n",
        "\n",
        "if which_temp == 'yes':\n",
        "  tempC = float(input('Enter the temperature in Celsius: '))\n",
        "  tempF = float((9/5 * tempC) + 32)\n",
        "  print(f\"Temperature {tempC} is {tempF} in Fahrenheit\")\n",
        "else:\n",
        "  tempF = float(input('Enter the temperature in Fahrenheit: '))\n",
        "  tempC = float((tempF - 32) * 5/9)\n",
        "  print(f\"{tempF} degrees in Fahrenheit is {tempC} idegrees in Celsius\")\n"
      ],
      "metadata": {
        "id": "DOpL_kqKbU6e"
      },
      "execution_count": null,
      "outputs": []
    },
    {
      "cell_type": "code",
      "source": [
        "which_temp == input('Would you like to convert temperature from Celsius to Fahrenheit (yes/no)?')\n",
        "if which_temp == 'yes':\n",
        "  tempC = float(input('Enter the temperature in Celsius:'))\n",
        "  tempF = float((9/5 * tempC) + 32)\n",
        "  print(f'{tempC} degrees in Celsius is {tempF} degrees in Fahrenheit.')\n",
        "else:\n",
        "  tempF = float (input('Then enter the temperature in Fahrenheit:'))\n",
        "  tempC = float((tempF - 32) * 5/9)\n",
        "  print(f'{tempF} degrees in Fahrenheit is {tempC} degrees in Celsius.')\n",
        "\n"
      ],
      "metadata": {
        "colab": {
          "base_uri": "https://localhost:8080/"
        },
        "id": "CVjc4O6Ccg5A",
        "outputId": "8ebc39b0-ebff-4d04-82a9-f0c5c67c2576"
      },
      "execution_count": null,
      "outputs": [
        {
          "name": "stdout",
          "output_type": "stream",
          "text": [
            "Would you like to convert temperature from Celsius to Fahrenheit (yes/no)?no\n"
          ]
        }
      ]
    }
  ]
}